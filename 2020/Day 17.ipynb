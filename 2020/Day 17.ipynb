{
 "cells": [
  {
   "cell_type": "code",
   "execution_count": 102,
   "metadata": {},
   "outputs": [],
   "source": [
    "ACTIVE = '#'\n",
    "INACTIVE = '.'\n",
    "\n",
    "class cube:\n",
    "    def __init__(self, data):      \n",
    "        data = data.split('\\n')\n",
    "        self.size = len(data)\n",
    "        self.cube = {}\n",
    "        cube_slice = {}\n",
    "        for i in range(self.size):\n",
    "            row = {}\n",
    "            for j in range(self.size):\n",
    "                row.update({j-self.size//2: data[i][j]})\n",
    "            cube_slice.update({i-self.size//2: row})\n",
    "            \n",
    "        self.cube.update({0: cube_slice})\n",
    "       \n",
    "    def __str__(self):\n",
    "        s = \"\"\n",
    "        for key in self.cube.keys():\n",
    "            s = s + \"z=\" + str(key) + \"\\n\"\n",
    "            for row_key in self.cube[key].keys():\n",
    "                for index_key in self.cube[key][row_key].keys():\n",
    "                    s += self.cube[key][row_key][index_key]\n",
    "                s += \"\\n\"\n",
    "            s+= \"\\n\"\n",
    "            \n",
    "        return s\n",
    "        \n",
    "        \n",
    "    def neighbors(self, position):\n",
    "        x,y,z = position\n",
    "        \n",
    "        directions = [-1, 0, 1]\n",
    "        near_points = []\n",
    "        for dx in directions:\n",
    "            for dy in directions:\n",
    "                for dz in directions:\n",
    "                    new_x = x + dx\n",
    "                    new_y = y + dy\n",
    "                    new_z = z + dz\n",
    "                    \n",
    "                    if (new_x != x or new_y != y or new_z != z):\n",
    "                        near_points.append((new_x, new_y, new_z))\n",
    "                \n",
    "        return near_points\n",
    "    \n",
    "    def simulate_point(self, position):\n",
    "        ns = self.neighbors(position)\n",
    "        current_state = INACTIVE\n",
    "        try:\n",
    "            current_state = self.cube[position[2]][position[0]][position[1]]\n",
    "        except:\n",
    "            pass\n",
    "        states = []\n",
    "        for n in ns:\n",
    "            x,y,z = n\n",
    "            try:\n",
    "                state = self.cube[z][x][y]\n",
    "                states.append(state)\n",
    "            except:\n",
    "                states.append(INACTIVE)\n",
    "        num_active = \"\".join(states).count(ACTIVE)\n",
    "        if current_state == ACTIVE:\n",
    "            return ACTIVE if (num_active == 2 or num_active == 3) else INACTIVE\n",
    "            \n",
    "        else:\n",
    "            return ACTIVE if num_active == 3 else INACTIVE\n",
    "        "
   ]
  },
  {
   "cell_type": "code",
   "execution_count": 103,
   "metadata": {},
   "outputs": [
    {
     "name": "stdout",
     "output_type": "stream",
     "text": [
      "z=0\n",
      "##...#.#\n",
      "####.#.#\n",
      "#...####\n",
      "..#.#.#.\n",
      "####.#..\n",
      "#.#.#..#\n",
      ".####.##\n",
      "..#...##\n",
      "\n",
      "\n"
     ]
    }
   ],
   "source": [
    "input_data = open('inputs/17.txt', 'r').read()\n",
    "c = cube(input_data)\n",
    "print(c)"
   ]
  },
  {
   "cell_type": "code",
   "execution_count": 104,
   "metadata": {},
   "outputs": [
    {
     "data": {
      "text/plain": [
       "'.'"
      ]
     },
     "execution_count": 104,
     "metadata": {},
     "output_type": "execute_result"
    }
   ],
   "source": [
    " c.simulate_point((2,2,0))"
   ]
  },
  {
   "cell_type": "code",
   "execution_count": 105,
   "metadata": {},
   "outputs": [
    {
     "name": "stdout",
     "output_type": "stream",
     "text": [
      "Solution 1:  382\n"
     ]
    }
   ],
   "source": [
    "size = len(input_data.split('\\n'))//2\n",
    "\n",
    "for _ in range(6):\n",
    "    size += 1\n",
    "    new_cube = {}\n",
    "\n",
    "    for z in range(-1*size, size+1):\n",
    "        z_slice = {}\n",
    "        for x in range(-1*size, size+1):\n",
    "            x_row = {}\n",
    "            for y in range(-1*size, size+1):\n",
    "                new_state = c.simulate_point((x,y,z))\n",
    "                x_row.update({y: new_state})\n",
    "            z_slice.update({x: x_row})\n",
    "\n",
    "        new_cube.update({z: z_slice})\n",
    "        \n",
    "    c.cube = new_cube\n",
    "\n",
    "active_count = 0\n",
    "for z in range(-1*size, size+1):\n",
    "    for x in range(-1*size, size+1):\n",
    "        for y in range(-1*size, size+1):\n",
    "            state = c.cube[z][x][y]\n",
    "            if state == ACTIVE:\n",
    "                active_count += 1\n",
    "\n",
    "print(\"Solution 1: \", active_count)"
   ]
  },
  {
   "cell_type": "code",
   "execution_count": null,
   "metadata": {},
   "outputs": [],
   "source": []
  },
  {
   "cell_type": "code",
   "execution_count": 106,
   "metadata": {},
   "outputs": [],
   "source": [
    "ACTIVE = '#'\n",
    "INACTIVE = '.'\n",
    "\n",
    "class hypercube:\n",
    "    def __init__(self, data):      \n",
    "        data = data.split('\\n')\n",
    "        self.size = len(data)\n",
    "        self.cube = {}\n",
    "        hyper_cube = {}\n",
    "        cube_slice = {}\n",
    "        for i in range(self.size):\n",
    "            row = {}\n",
    "            for j in range(self.size):\n",
    "                row.update({j-self.size//2: data[i][j]})\n",
    "            cube_slice.update({i-self.size//2: row})\n",
    "            \n",
    "        hyper_cube.update({0: cube_slice})\n",
    "        self.cube.update({0: hyper_cube})\n",
    "       \n",
    "    def __str__(self):\n",
    "        s = \"\"\n",
    "        for cube_key in self.cube.keys():\n",
    "            for slice_key in self.cube[cube_key].keys():\n",
    "                s = s + \"z=\" + str(slice_key) + \", w=\" + str(cube_key) + \"\\n\"\n",
    "                for row_key in self.cube[cube_key][slice_key].keys():\n",
    "                    for index_key in self.cube[cube_key][slice_key][row_key].keys():\n",
    "                        s += self.cube[cube_key][slice_key][row_key][index_key]\n",
    "                    s += \"\\n\"\n",
    "                s+= \"\\n\"\n",
    "            \n",
    "        return s\n",
    "        \n",
    "        \n",
    "    def neighbors(self, position):\n",
    "        x,y,z,w = position\n",
    "        \n",
    "        directions = [-1, 0, 1]\n",
    "        near_points = []\n",
    "        for dx in directions:\n",
    "            for dy in directions:\n",
    "                for dz in directions:\n",
    "                    for dw in directions:\n",
    "\n",
    "                        new_x = x + dx\n",
    "                        new_y = y + dy\n",
    "                        new_z = z + dz\n",
    "                        new_w = w + dw\n",
    "\n",
    "                        if (new_x != x or new_y != y or new_z != z or new_w != w):\n",
    "                            near_points.append((new_x, new_y, new_z, new_w))\n",
    "\n",
    "        return near_points\n",
    "    \n",
    "    def simulate_point(self, position):\n",
    "        ns = self.neighbors(position)\n",
    "        current_state = INACTIVE\n",
    "        try:\n",
    "            current_state = self.cube[position[3]][position[2]][position[0]][position[1]]\n",
    "        except:\n",
    "            pass\n",
    "        states = []\n",
    "        for n in ns:\n",
    "            x,y,z,w = n\n",
    "            try:\n",
    "                state = self.cube[w][z][x][y]\n",
    "                states.append(state)\n",
    "            except:\n",
    "                states.append(INACTIVE)\n",
    "        num_active = \"\".join(states).count(ACTIVE)\n",
    "        if current_state == ACTIVE:\n",
    "            return ACTIVE if (num_active == 2 or num_active == 3) else INACTIVE\n",
    "            \n",
    "        else:\n",
    "            return ACTIVE if num_active == 3 else INACTIVE\n",
    "        "
   ]
  },
  {
   "cell_type": "code",
   "execution_count": 114,
   "metadata": {},
   "outputs": [],
   "source": [
    "h = hypercube(input_data)"
   ]
  },
  {
   "cell_type": "code",
   "execution_count": 115,
   "metadata": {},
   "outputs": [
    {
     "name": "stdout",
     "output_type": "stream",
     "text": [
      "z=0, w=0\n",
      "##...#.#\n",
      "####.#.#\n",
      "#...####\n",
      "..#.#.#.\n",
      "####.#..\n",
      "#.#.#..#\n",
      ".####.##\n",
      "..#...##\n",
      "\n",
      "\n"
     ]
    }
   ],
   "source": [
    "print(h)"
   ]
  },
  {
   "cell_type": "code",
   "execution_count": null,
   "metadata": {
    "scrolled": true
   },
   "outputs": [],
   "source": []
  },
  {
   "cell_type": "code",
   "execution_count": null,
   "metadata": {},
   "outputs": [],
   "source": [
    "%%time\n",
    "size = len(input_data.split('\\n'))//2\n",
    "\n",
    "for _ in range(6):\n",
    "    size += 1\n",
    "    \n",
    "    new_hyper_cube = {}\n",
    "    for w in range(-1*size, size+1):\n",
    "        new_cube = {}\n",
    "\n",
    "        for z in range(-1*size, size+1):\n",
    "            z_slice = {}\n",
    "            for x in range(-1*size, size+1):\n",
    "                x_row = {}\n",
    "                for y in range(-1*size, size+1):\n",
    "                    new_state = h.simulate_point((x,y,z,w))\n",
    "                    x_row.update({y: new_state})\n",
    "                z_slice.update({x: x_row})\n",
    "\n",
    "            new_cube.update({z: z_slice})\n",
    "\n",
    "        new_hyper_cube.update({w: new_cube}) \n",
    "    \n",
    "    h.cube = new_hyper_cube"
   ]
  },
  {
   "cell_type": "code",
   "execution_count": null,
   "metadata": {},
   "outputs": [],
   "source": []
  },
  {
   "cell_type": "code",
   "execution_count": null,
   "metadata": {},
   "outputs": [],
   "source": [
    "active_count = 0\n",
    "for w in range(-1*size, size+1):\n",
    "    for z in range(-1*size, size+1):\n",
    "        for x in range(-1*size, size+1):\n",
    "            for y in range(-1*size, size+1):\n",
    "                state = h.cube[w][z][x][y]\n",
    "                if state == ACTIVE:\n",
    "                    active_count += 1"
   ]
  },
  {
   "cell_type": "code",
   "execution_count": null,
   "metadata": {},
   "outputs": [],
   "source": [
    "active_count"
   ]
  },
  {
   "cell_type": "code",
   "execution_count": null,
   "metadata": {},
   "outputs": [],
   "source": []
  }
 ],
 "metadata": {
  "kernelspec": {
   "display_name": "Python 3",
   "language": "python",
   "name": "python3"
  },
  "language_info": {
   "codemirror_mode": {
    "name": "ipython",
    "version": 3
   },
   "file_extension": ".py",
   "mimetype": "text/x-python",
   "name": "python",
   "nbconvert_exporter": "python",
   "pygments_lexer": "ipython3",
   "version": "3.7.4"
  }
 },
 "nbformat": 4,
 "nbformat_minor": 2
}
