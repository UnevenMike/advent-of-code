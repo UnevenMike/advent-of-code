{
 "cells": [
  {
   "cell_type": "code",
   "execution_count": 96,
   "metadata": {},
   "outputs": [],
   "source": [
    "input_data = open('inputs/8_1.txt', 'r').read().split(\"\\n\")"
   ]
  },
  {
   "cell_type": "code",
   "execution_count": 97,
   "metadata": {},
   "outputs": [],
   "source": [
    "data = [[x.split(\" \"), 0] for x in input_data]"
   ]
  },
  {
   "cell_type": "code",
   "execution_count": 98,
   "metadata": {},
   "outputs": [],
   "source": [
    "def run(program):\n",
    "    acc = 0\n",
    "    pid = 0\n",
    "    while True:\n",
    "        if pid >= len(program):\n",
    "            return (True, acc)\n",
    "        \n",
    "        ins = program[pid]\n",
    "        ins[1] += 1\n",
    "        if ins[1] > 1:\n",
    "            return (False, acc)\n",
    "        \n",
    "        op = ins[0][0]\n",
    "        value = int(ins[0][1])\n",
    "        \n",
    "        if op == 'acc':\n",
    "            acc += value\n",
    "            pid += 1\n",
    "            \n",
    "        elif op == 'jmp':\n",
    "            pid += value\n",
    "        else:\n",
    "            pid += 1\n",
    "        "
   ]
  },
  {
   "cell_type": "code",
   "execution_count": 99,
   "metadata": {},
   "outputs": [
    {
     "name": "stdout",
     "output_type": "stream",
     "text": [
      "Solution 1:  1200\n"
     ]
    }
   ],
   "source": [
    "print(\"Solution 1: \", run(data)[1])"
   ]
  },
  {
   "cell_type": "code",
   "execution_count": 100,
   "metadata": {},
   "outputs": [
    {
     "name": "stdout",
     "output_type": "stream",
     "text": [
      "Solution 2:  1023\n"
     ]
    }
   ],
   "source": [
    "for i in range(len(input_data)):\n",
    "   \n",
    "    data = [[x.split(\" \"), 0] for x in input_data]\n",
    "    if data[i][0][0] == 'nop':\n",
    "        data[i][0][0] = 'jmp'\n",
    "    elif data[i][0][0] == 'jmp':\n",
    "        data[i][0][0] = 'nop'\n",
    "    output = run(data)\n",
    "    if output[0]:\n",
    "        print(\"Solution 2: \", output[1])\n",
    "\n",
    "    "
   ]
  },
  {
   "cell_type": "code",
   "execution_count": null,
   "metadata": {},
   "outputs": [],
   "source": []
  },
  {
   "cell_type": "code",
   "execution_count": null,
   "metadata": {},
   "outputs": [],
   "source": []
  }
 ],
 "metadata": {
  "kernelspec": {
   "display_name": "Python 3",
   "language": "python",
   "name": "python3"
  },
  "language_info": {
   "codemirror_mode": {
    "name": "ipython",
    "version": 3
   },
   "file_extension": ".py",
   "mimetype": "text/x-python",
   "name": "python",
   "nbconvert_exporter": "python",
   "pygments_lexer": "ipython3",
   "version": "3.7.4"
  }
 },
 "nbformat": 4,
 "nbformat_minor": 2
}
