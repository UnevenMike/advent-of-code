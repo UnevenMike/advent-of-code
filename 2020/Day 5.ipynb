{
 "cells": [
  {
   "cell_type": "code",
   "execution_count": 44,
   "metadata": {},
   "outputs": [],
   "source": [
    "data = []\n",
    "with open('inputs/5_1.txt', 'r') as file:\n",
    "    lines = file.readlines()\n",
    "    data = [line.replace('\\n', '') for line in lines]"
   ]
  },
  {
   "cell_type": "code",
   "execution_count": 45,
   "metadata": {},
   "outputs": [],
   "source": [
    "def get_nums(sid):\n",
    "    row = sid[0:7]\n",
    "    column = sid[7:10]\n",
    "    \n",
    "    row = int(row.replace(\"B\", \"1\").replace(\"F\",\"0\"), 2)\n",
    "    column = int(column.replace(\"R\", \"1\").replace(\"L\",\"0\"), 2)\n",
    "    \n",
    "    return (row * 8 + column)"
   ]
  },
  {
   "cell_type": "code",
   "execution_count": 46,
   "metadata": {},
   "outputs": [],
   "source": [
    "ids = [ get_nums(i) for i in data]"
   ]
  },
  {
   "cell_type": "code",
   "execution_count": 50,
   "metadata": {},
   "outputs": [
    {
     "name": "stdout",
     "output_type": "stream",
     "text": [
      "Solution:  880\n"
     ]
    }
   ],
   "source": [
    "print(\"Solution: \", max(ids))"
   ]
  },
  {
   "cell_type": "code",
   "execution_count": 51,
   "metadata": {},
   "outputs": [],
   "source": [
    "def find_missing(ids):\n",
    "    ids.sort()\n",
    "    offset = ids[0]\n",
    "    for i in range(len(ids)):\n",
    "        if(ids[i] - (offset + i) != 0):\n",
    "            return i + offset"
   ]
  },
  {
   "cell_type": "code",
   "execution_count": 52,
   "metadata": {},
   "outputs": [
    {
     "name": "stdout",
     "output_type": "stream",
     "text": [
      "Solution:  731\n"
     ]
    }
   ],
   "source": [
    "print(\"Solution: \", find_missing(ids))"
   ]
  },
  {
   "cell_type": "code",
   "execution_count": null,
   "metadata": {},
   "outputs": [],
   "source": []
  }
 ],
 "metadata": {
  "kernelspec": {
   "display_name": "Python 3",
   "language": "python",
   "name": "python3"
  },
  "language_info": {
   "codemirror_mode": {
    "name": "ipython",
    "version": 3
   },
   "file_extension": ".py",
   "mimetype": "text/x-python",
   "name": "python",
   "nbconvert_exporter": "python",
   "pygments_lexer": "ipython3",
   "version": "3.7.4"
  }
 },
 "nbformat": 4,
 "nbformat_minor": 2
}
