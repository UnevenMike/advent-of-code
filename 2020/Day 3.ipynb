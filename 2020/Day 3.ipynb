{
 "cells": [
  {
   "cell_type": "code",
   "execution_count": 168,
   "metadata": {},
   "outputs": [],
   "source": [
    "from functools import reduce"
   ]
  },
  {
   "cell_type": "code",
   "execution_count": 169,
   "metadata": {},
   "outputs": [],
   "source": [
    "class sled:\n",
    "    def __init__(self, lat, down, width):\n",
    "        self.lat = lat\n",
    "        self.down = down\n",
    "        self.width = width\n",
    "        self.x = 0\n",
    "        self.y = 0\n",
    "        \n",
    "    def inc(self):\n",
    "        self.x = (self.x + self.lat) % self.width\n",
    "        self.y = self.y + self.down"
   ]
  },
  {
   "cell_type": "code",
   "execution_count": 170,
   "metadata": {},
   "outputs": [],
   "source": [
    "hill = []\n",
    "with open(\"inputs/3_1.txt\", \"r\") as file:\n",
    "    hill = [x.replace(\"\\n\",\"\") for x in file.readlines()]\n",
    "    \n",
    "length = len(hill)\n",
    "width = len(hill[0])"
   ]
  },
  {
   "cell_type": "code",
   "execution_count": 171,
   "metadata": {},
   "outputs": [
    {
     "name": "stdout",
     "output_type": "stream",
     "text": [
      "Solution : 200\n"
     ]
    }
   ],
   "source": [
    "sled3 = sled(3, 1, width)\n",
    "tree_count = 0\n",
    "for slope in hill:\n",
    "    if slope[sled3.x] == \"#\":\n",
    "        tree_count+=1\n",
    "    sled3.inc()\n",
    "print(\"Solution :\", tree_count)"
   ]
  },
  {
   "cell_type": "code",
   "execution_count": 174,
   "metadata": {},
   "outputs": [
    {
     "name": "stdout",
     "output_type": "stream",
     "text": [
      "Solution : 3737923200\n"
     ]
    }
   ],
   "source": [
    "sled_options = [(1,1), (3,1), (5,1), (7,1), (1,2)]\n",
    "sleds = list(map(lambda x: sled(x[0], x[1], width), sled_options))\n",
    "\n",
    "tree_counts = []\n",
    "for s in sleds:\n",
    "    tree_count = 0\n",
    "    while s.y < length:\n",
    "        slope = hill[s.y]\n",
    "        if slope[s.x] == \"#\":\n",
    "            tree_count+=1\n",
    "        s.inc()\n",
    "    tree_counts.append(tree_count)\n",
    "print(\"Solution :\", reduce(lambda acc, x: acc * x, tree_counts))"
   ]
  }
 ],
 "metadata": {
  "kernelspec": {
   "display_name": "Python 3",
   "language": "python",
   "name": "python3"
  },
  "language_info": {
   "codemirror_mode": {
    "name": "ipython",
    "version": 3
   },
   "file_extension": ".py",
   "mimetype": "text/x-python",
   "name": "python",
   "nbconvert_exporter": "python",
   "pygments_lexer": "ipython3",
   "version": "3.7.4"
  }
 },
 "nbformat": 4,
 "nbformat_minor": 2
}
