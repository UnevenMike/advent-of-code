{
 "cells": [
  {
   "cell_type": "code",
   "execution_count": 130,
   "metadata": {},
   "outputs": [],
   "source": [
    "import re"
   ]
  },
  {
   "cell_type": "code",
   "execution_count": 139,
   "metadata": {},
   "outputs": [],
   "source": [
    "data = []\n",
    "with open('inputs/4_1.txt', 'r') as file:\n",
    "    data = file.readlines()\n",
    "    \n",
    "data\n",
    "\n",
    "passports = []\n",
    "currentpassport = []\n",
    "for line in data:\n",
    "    if line == '\\n' :\n",
    "        cleandata = ''.join(currentpassport).replace('\\n', ' ')\n",
    "        passports.append(cleandata)\n",
    "        currentpassport = []\n",
    "    else:\n",
    "        currentpassport.append(line)\n",
    "cleandata = ''.join(currentpassport).replace('\\n', ' ')\n",
    "passports.append(cleandata)\n",
    "currentpassport = []       "
   ]
  },
  {
   "cell_type": "code",
   "execution_count": 151,
   "metadata": {},
   "outputs": [],
   "source": [
    "def check_passport(passport):\n",
    "    fields = filter(lambda x : x != '', passport.split(' '))\n",
    "    attributes = set([ x.split(':')[0] for x in fields])\n",
    "    must_have = set(['byr', 'iyr', 'eyr', 'hgt', 'hcl', 'ecl', 'pid'])\n",
    "    correct_attributes = attributes & must_have\n",
    "    return len(correct_attributes) == len(must_have)"
   ]
  },
  {
   "cell_type": "code",
   "execution_count": 152,
   "metadata": {},
   "outputs": [
    {
     "name": "stdout",
     "output_type": "stream",
     "text": [
      "Solution:  254\n"
     ]
    }
   ],
   "source": [
    "correct = 0\n",
    "for passport in passports:\n",
    "    if check_passport(passport):\n",
    "        correct += 1\n",
    "print(\"Solution: \", correct)        "
   ]
  },
  {
   "cell_type": "code",
   "execution_count": 153,
   "metadata": {},
   "outputs": [],
   "source": [
    "def check_passport_strict(passport):\n",
    "    fields = list(filter(lambda x : x != '', passport.split(' ')))\n",
    "    data = {};\n",
    "    for field in fields:\n",
    "        split = field.split(\":\")\n",
    "        data.update({split[0] : split[1]})\n",
    "\n",
    "    attributes = set(data.keys())\n",
    "    must_have_list = ['byr', 'iyr', 'eyr', 'hgt', 'hcl', 'ecl', 'pid']\n",
    "    must_have_set = set(must_have_list)\n",
    "    \n",
    "    correct_attributes = attributes & must_have_set\n",
    "    if len(correct_attributes) != len(must_have_set):\n",
    "        return False\n",
    "    \n",
    "    checks = [check_data(key, data[key]) for key in must_have_list]\n",
    "    return sum(checks) == len(must_have_list)"
   ]
  },
  {
   "cell_type": "code",
   "execution_count": 154,
   "metadata": {},
   "outputs": [],
   "source": [
    "def check_data(key, value):\n",
    "    try:\n",
    "        if key == 'byr':\n",
    "            value = int(value)\n",
    "            return value >= 1920 and value <= 2002\n",
    "        \n",
    "        elif key == 'iyr':\n",
    "            value = int(value)\n",
    "            return value >= 2010 and value <= 2020\n",
    "        \n",
    "        elif key == 'eyr':\n",
    "            value = int(value)\n",
    "            return value >= 2020 and value <= 2030\n",
    "        \n",
    "        elif key == 'hgt':\n",
    "            number = int(value[:-2])\n",
    "            if 'cm' in value:\n",
    "                return number >= 150 and number <= 193\n",
    "            elif 'in' in value:\n",
    "                return number >= 59 and number <= 76\n",
    "            else:\n",
    "                return False\n",
    "\n",
    "        elif key == 'hcl':\n",
    "            if value[0] == '#' and len(value) == 7:\n",
    "                return len(re.findall(\"[a-f0-9]\", value)) == 6\n",
    "            return False\n",
    "            \n",
    "        elif key == 'ecl':\n",
    "            colors = set(['amb', 'blu', 'brn', 'gry', 'grn', 'hzl', 'oth'])\n",
    "            return value in colors\n",
    "        \n",
    "        elif key == 'pid':\n",
    "            return len(value) == 9 and len(re.findall(\"[0-9]\", value)) == 9\n",
    "            \n",
    "        else:\n",
    "            return False\n",
    "        \n",
    "    except:\n",
    "#         print(\"Exception\", key, value)\n",
    "        return False"
   ]
  },
  {
   "cell_type": "code",
   "execution_count": 156,
   "metadata": {},
   "outputs": [
    {
     "name": "stdout",
     "output_type": "stream",
     "text": [
      "Solution:  184\n"
     ]
    }
   ],
   "source": [
    "valid = sum([check_passport_strict(passport) for passport in passports])\n",
    "print(\"Solution: \", valid)"
   ]
  }
 ],
 "metadata": {
  "kernelspec": {
   "display_name": "Python 3",
   "language": "python",
   "name": "python3"
  },
  "language_info": {
   "codemirror_mode": {
    "name": "ipython",
    "version": 3
   },
   "file_extension": ".py",
   "mimetype": "text/x-python",
   "name": "python",
   "nbconvert_exporter": "python",
   "pygments_lexer": "ipython3",
   "version": "3.7.4"
  }
 },
 "nbformat": 4,
 "nbformat_minor": 2
}
