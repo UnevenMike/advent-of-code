{
 "cells": [
  {
   "cell_type": "code",
   "execution_count": 100,
   "metadata": {},
   "outputs": [],
   "source": [
    "def evaluate(expr):\n",
    "    value = int(expr[0]);\n",
    "    op = ''\n",
    "    num_state = False\n",
    "    for i in range(1,len(expr)):\n",
    "        if num_state:\n",
    "            if op == '+':\n",
    "                value += int(expr[i])\n",
    "            else:\n",
    "                value *= int(expr[i])\n",
    "        else: \n",
    "            op = expr[i]\n",
    "        num_state = not num_state\n",
    "    return value"
   ]
  },
  {
   "cell_type": "code",
   "execution_count": 101,
   "metadata": {},
   "outputs": [],
   "source": [
    "def evaluate_with_precedence(expr):\n",
    "    index = 0\n",
    "    while index < len(expr):\n",
    "        if expr[index] == '+':\n",
    "            value = evaluate(expr[index-1:index+2])\n",
    "            expr = expr[:index-1] + [str(value)] + expr[index+2:]\n",
    "            index = -1\n",
    "        index += 1\n",
    "    \n",
    "    value = int(expr[0]);\n",
    "    op = '*'\n",
    "    num_state = False\n",
    "    for i in range(1,len(expr)):\n",
    "        if num_state:\n",
    "            value *= int(expr[i])\n",
    "        num_state = not num_state\n",
    "    return value"
   ]
  },
  {
   "cell_type": "code",
   "execution_count": 102,
   "metadata": {},
   "outputs": [],
   "source": [
    "input_data = open('inputs/18.txt', 'r').read().split('\\n')"
   ]
  },
  {
   "cell_type": "code",
   "execution_count": 103,
   "metadata": {},
   "outputs": [],
   "source": [
    "equations = input_data"
   ]
  },
  {
   "cell_type": "code",
   "execution_count": 104,
   "metadata": {},
   "outputs": [
    {
     "name": "stdout",
     "output_type": "stream",
     "text": [
      "381107029777968\n"
     ]
    }
   ],
   "source": [
    "solutions = []\n",
    "for equation in equations:\n",
    "    open_group = []\n",
    "    closed_group = []\n",
    "    index = 0\n",
    "    split_equation = [c for c in equation if c != ' ']\n",
    "    while index < len(split_equation):\n",
    "        if split_equation[index] == '(':\n",
    "            open_group.append(index)\n",
    "\n",
    "        elif split_equation[index] == ')':\n",
    "            start = max(open_group)\n",
    "            open_group.remove(start)\n",
    "            split_equation = split_equation[:start] + [str(evaluate_with_precedence(split_equation[start+1:index]))] + split_equation[index+1:]\n",
    "            index = -1\n",
    "\n",
    "        index += 1\n",
    "\n",
    "    solutions.append(evaluate_with_precedence(split_equation))\n",
    "print(sum(solutions))"
   ]
  },
  {
   "cell_type": "code",
   "execution_count": null,
   "metadata": {},
   "outputs": [],
   "source": []
  }
 ],
 "metadata": {
  "kernelspec": {
   "display_name": "Python 3",
   "language": "python",
   "name": "python3"
  },
  "language_info": {
   "codemirror_mode": {
    "name": "ipython",
    "version": 3
   },
   "file_extension": ".py",
   "mimetype": "text/x-python",
   "name": "python",
   "nbconvert_exporter": "python",
   "pygments_lexer": "ipython3",
   "version": "3.7.4"
  }
 },
 "nbformat": 4,
 "nbformat_minor": 2
}
