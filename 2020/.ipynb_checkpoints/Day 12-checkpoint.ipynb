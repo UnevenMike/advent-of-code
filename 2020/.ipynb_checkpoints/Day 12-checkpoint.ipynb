{
 "cells": [
  {
   "cell_type": "code",
   "execution_count": 125,
   "metadata": {},
   "outputs": [],
   "source": [
    "import math"
   ]
  },
  {
   "cell_type": "code",
   "execution_count": 126,
   "metadata": {},
   "outputs": [],
   "source": [
    "NORTH = 'N'\n",
    "SOUTH = 'S'\n",
    "EAST = 'E'\n",
    "WEST = 'W'\n",
    "FORWARD = 'F'\n",
    "LEFT = 'L'\n",
    "RIGHT = 'R'"
   ]
  },
  {
   "cell_type": "code",
   "execution_count": 139,
   "metadata": {},
   "outputs": [],
   "source": [
    "class ship:\n",
    "    def __init__(self, x, y, way_x, way_y):\n",
    "        self.x = x\n",
    "        self.y = y\n",
    "        self.way_x = way_x\n",
    "        self.way_y = way_y\n",
    "        \n",
    "    def __rotate(self, instruction, value):\n",
    "        count = value // 90\n",
    "        for i in range(count):\n",
    "            if instruction == LEFT:\n",
    "                new_y = -1 * self.way_x\n",
    "                new_x = self.way_y\n",
    "                self.way_x = new_x\n",
    "                self.way_y = new_y\n",
    "                \n",
    "            elif instruction == RIGHT:\n",
    "                new_y = self.way_x\n",
    "                new_x = -1 * self.way_y\n",
    "                self.way_x = new_x\n",
    "                self.way_y = new_y\n",
    "        \n",
    "        \n",
    "    def move(self, instruction, value):\n",
    "        if (instruction == RIGHT or instruction == LEFT):\n",
    "            self.__rotate(instruction, value)\n",
    "            return\n",
    "        \n",
    "        if instruction == FORWARD:\n",
    "            self.x += (self.way_x * value)\n",
    "            self.y += (self.way_y * value)\n",
    "            \n",
    "        elif instruction == NORTH:\n",
    "            self.way_x += value\n",
    "        elif instruction == SOUTH:\n",
    "            self.way_x -= value\n",
    "        elif instruction == EAST:\n",
    "            self.way_y += value\n",
    "        elif instruction == WEST:\n",
    "            self.way_y -= value\n",
    "        \n",
    "            \n",
    "    def __str__(self):\n",
    "        return \"(\" + str(self.x) + \", \" + str(self.y) + \") : (\" + str(self.way_x) + \", \" + str(self.way_y) + \")\"\n",
    "        "
   ]
  },
  {
   "cell_type": "code",
   "execution_count": 153,
   "metadata": {},
   "outputs": [],
   "source": [
    "input_data = open('inputs/12.txt', 'r').read().split(\"\\n\")\n",
    "instructions = [(s[0], int(s[1:])) for s in input_data]"
   ]
  },
  {
   "cell_type": "code",
   "execution_count": 158,
   "metadata": {},
   "outputs": [],
   "source": [
    "s = ship(0, 0, 1, 10)"
   ]
  },
  {
   "cell_type": "code",
   "execution_count": 159,
   "metadata": {},
   "outputs": [
    {
     "name": "stdout",
     "output_type": "stream",
     "text": [
      "(0, 0) : (1, 10)\n",
      "(12241, -40501) : (-95, 22)\n"
     ]
    }
   ],
   "source": [
    "print(s)\n",
    "for i in instructions:\n",
    "    s.move(i[0], i[1])\n",
    "print(s)"
   ]
  },
  {
   "cell_type": "code",
   "execution_count": 160,
   "metadata": {},
   "outputs": [
    {
     "name": "stdout",
     "output_type": "stream",
     "text": [
      "Solution : 52742.0\n"
     ]
    }
   ],
   "source": [
    "print(\"Solution :\", math.sqrt(s.x**2) + math.sqrt(s.y**2))"
   ]
  },
  {
   "cell_type": "code",
   "execution_count": null,
   "metadata": {},
   "outputs": [],
   "source": []
  }
 ],
 "metadata": {
  "kernelspec": {
   "display_name": "Python 3",
   "language": "python",
   "name": "python3"
  },
  "language_info": {
   "codemirror_mode": {
    "name": "ipython",
    "version": 3
   },
   "file_extension": ".py",
   "mimetype": "text/x-python",
   "name": "python",
   "nbconvert_exporter": "python",
   "pygments_lexer": "ipython3",
   "version": "3.7.4"
  }
 },
 "nbformat": 4,
 "nbformat_minor": 2
}
