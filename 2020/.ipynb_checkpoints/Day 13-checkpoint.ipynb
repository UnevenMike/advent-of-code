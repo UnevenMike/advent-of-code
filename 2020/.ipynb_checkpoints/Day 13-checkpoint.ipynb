{
 "cells": [
  {
   "cell_type": "code",
   "execution_count": 160,
   "metadata": {},
   "outputs": [],
   "source": [
    "from functools import reduce"
   ]
  },
  {
   "cell_type": "code",
   "execution_count": 181,
   "metadata": {},
   "outputs": [
    {
     "name": "stdout",
     "output_type": "stream",
     "text": [
      "1006697 [13, 41, 641, 19, 17, 29, 661, 37, 23]\n"
     ]
    }
   ],
   "source": [
    "input_data = open('inputs/13.txt', 'r').read().split(\"\\n\")\n",
    "starting_time = int(input_data[0])\n",
    "bustimes = [int(x) for x in input_data[1].replace('x,', \"\").split(\",\")]\n",
    "print(starting_time, bustimes)"
   ]
  },
  {
   "cell_type": "code",
   "execution_count": 199,
   "metadata": {},
   "outputs": [
    {
     "name": "stdout",
     "output_type": "stream",
     "text": [
      "Solution 1:  3966\n"
     ]
    }
   ],
   "source": [
    "minutes = [x - (starting_time % x) for x in bustimes] \n",
    "print(\"Solution 1: \", min(minutes) * bustimes[minutes.index(min(minutes))])"
   ]
  },
  {
   "cell_type": "code",
   "execution_count": 200,
   "metadata": {},
   "outputs": [],
   "source": [
    "def sortfn(x):\n",
    "    return x[0]"
   ]
  },
  {
   "cell_type": "code",
   "execution_count": 201,
   "metadata": {},
   "outputs": [
    {
     "data": {
      "text/plain": [
       "[(661, 617),\n",
       " (641, 628),\n",
       " (41, 38),\n",
       " (37, 24),\n",
       " (29, 16),\n",
       " (23, 2),\n",
       " (19, 13),\n",
       " (17, 4),\n",
       " (13, 0)]"
      ]
     },
     "execution_count": 201,
     "metadata": {},
     "output_type": "execute_result"
    }
   ],
   "source": [
    "data = [ (x, (x - input_data[1].split(',').index(str(x))) %x ) for x in bustimes ]\n",
    "data.sort(key=sortfn, reverse = True)\n",
    "data"
   ]
  },
  {
   "cell_type": "code",
   "execution_count": 205,
   "metadata": {},
   "outputs": [],
   "source": [
    "value = data[0][1]\n",
    "for i in range(1, len(data)):\n",
    "    inc = reduce(lambda x, y: x * y, ([ x[0] for x in data[0:i] ]));\n",
    "    while (value % data[i][0] != data[i][1]):\n",
    "        value += inc"
   ]
  },
  {
   "cell_type": "code",
   "execution_count": 206,
   "metadata": {},
   "outputs": [
    {
     "name": "stdout",
     "output_type": "stream",
     "text": [
      "Solution 2:  800177252346225\n"
     ]
    }
   ],
   "source": [
    "print(\"Solution 2: \", start)"
   ]
  },
  {
   "cell_type": "code",
   "execution_count": null,
   "metadata": {},
   "outputs": [],
   "source": []
  }
 ],
 "metadata": {
  "kernelspec": {
   "display_name": "Python 3",
   "language": "python",
   "name": "python3"
  },
  "language_info": {
   "codemirror_mode": {
    "name": "ipython",
    "version": 3
   },
   "file_extension": ".py",
   "mimetype": "text/x-python",
   "name": "python",
   "nbconvert_exporter": "python",
   "pygments_lexer": "ipython3",
   "version": "3.7.4"
  }
 },
 "nbformat": 4,
 "nbformat_minor": 2
}
