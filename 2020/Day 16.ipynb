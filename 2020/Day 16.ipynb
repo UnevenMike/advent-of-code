{
 "cells": [
  {
   "cell_type": "code",
   "execution_count": 150,
   "metadata": {},
   "outputs": [],
   "source": [
    "class field:\n",
    "    def __init__(self, row):\n",
    "        split_colon = row.split(\": \")\n",
    "        split_range = [x.split('-') for x in split_colon[1].split(\" or \")]\n",
    "        ranges = [(int(x[0]), int(x[1])) for x in split_range]\n",
    "\n",
    "        self.name = split_colon[0]\n",
    "        \n",
    "        self.range1 = ranges[0]\n",
    "        self.range2 = ranges[1]\n",
    "        \n",
    "    def is_valid(self, num):\n",
    "        return (num >= self.range1[0] and num <= self.range1[1]) or (num >= self.range2[0] and num <= self.range2[1])\n",
    "    \n",
    "    def __str__(self):\n",
    "        return self.name + ': ' + str(self.range1) + \" or \" + str(self.range2)\n",
    "    \n",
    "class ticket:\n",
    "    def __init__(self, data):\n",
    "        self.values = [ int(x) for x in data.split(',')]"
   ]
  },
  {
   "cell_type": "code",
   "execution_count": 151,
   "metadata": {},
   "outputs": [],
   "source": [
    "input_data = open('inputs/16.txt', 'r').read().split(\"\\n\\n\")\n",
    "fields = [field(d) for d in input_data[0].split('\\n')]\n",
    "my_ticket = ticket(input_data[1].split('\\n')[1])\n",
    "tickets = [ticket(d) for d in input_data[2].split('\\n')[1:]]"
   ]
  },
  {
   "cell_type": "code",
   "execution_count": 152,
   "metadata": {},
   "outputs": [
    {
     "name": "stdout",
     "output_type": "stream",
     "text": [
      "Solution 1:  29019\n"
     ]
    }
   ],
   "source": [
    "invalid_nums = []\n",
    "for t in tickets:\n",
    "    for v in t.values:\n",
    "        valid = sum([f.is_valid(v) for f in fields]) >= 1\n",
    "        if not valid:\n",
    "            invalid_nums.append(v)\n",
    "\n",
    "print('Solution 1: ', sum(invalid_nums))"
   ]
  },
  {
   "cell_type": "code",
   "execution_count": null,
   "metadata": {},
   "outputs": [],
   "source": []
  },
  {
   "cell_type": "code",
   "execution_count": 153,
   "metadata": {},
   "outputs": [],
   "source": [
    "# Filter out invalid tickets\n",
    "valid_tickets = []\n",
    "for t in tickets:\n",
    "    is_ticket_valid = True\n",
    "    for v in t.values:\n",
    "        valid = sum([f.is_valid(v) for f in fields]) >= 1\n",
    "        if not valid:\n",
    "            is_ticket_valid = False\n",
    "    \n",
    "    if is_ticket_valid:\n",
    "        valid_tickets.append(t)"
   ]
  },
  {
   "cell_type": "code",
   "execution_count": 157,
   "metadata": {},
   "outputs": [],
   "source": [
    "# Find all valid column for each field\n",
    "field_columns = []\n",
    "for f in fields:\n",
    "    valid_rows = []\n",
    "    for i in range(len(fields)):\n",
    "        values = [t.values[i] for t in valid_tickets]\n",
    "        invalid_values = [x for x in values if not f.is_valid(x)]\n",
    "        if (sum(invalid_values) == 0):\n",
    "            valid_rows.append(i)\n",
    "    field_columns.append((f.name, valid_rows))\n",
    "        \n",
    "# Find the actual column by elimination\n",
    "field_columns.sort(key=mysort) \n",
    "final_rows = []\n",
    "used_values = []\n",
    "for d in field_columns:\n",
    "    value = list(set(d[1]) - set(used_values))[0]\n",
    "    used_values.append(value)\n",
    "    final_rows.append((d[0], value))\n",
    "\n",
    "# Multiply 'departure' fields of my_ticket\n",
    "solution = 1\n",
    "for index in [x[1] for x in final_rows if 'departure' in x[0]]:\n",
    "    solution = solution * my_ticket.values[index]"
   ]
  },
  {
   "cell_type": "code",
   "execution_count": 158,
   "metadata": {},
   "outputs": [
    {
     "name": "stdout",
     "output_type": "stream",
     "text": [
      "Solution 2:  517827547723\n"
     ]
    }
   ],
   "source": [
    "print(\"Solution 2: \", solution)"
   ]
  }
 ],
 "metadata": {
  "kernelspec": {
   "display_name": "Python 3",
   "language": "python",
   "name": "python3"
  },
  "language_info": {
   "codemirror_mode": {
    "name": "ipython",
    "version": 3
   },
   "file_extension": ".py",
   "mimetype": "text/x-python",
   "name": "python",
   "nbconvert_exporter": "python",
   "pygments_lexer": "ipython3",
   "version": "3.7.4"
  }
 },
 "nbformat": 4,
 "nbformat_minor": 2
}
