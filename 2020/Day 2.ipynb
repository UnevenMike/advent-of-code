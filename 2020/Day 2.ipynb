{
 "cells": [
  {
   "cell_type": "code",
   "execution_count": 109,
   "metadata": {},
   "outputs": [],
   "source": [
    "class rule:\n",
    "    def __init__(self, r):\n",
    "        numsplit = r.split(\" \")\n",
    "        minmaxsplit = numsplit[0].split(\"-\")\n",
    "        self.min = int(minmaxsplit[0])\n",
    "        self.max = int(minmaxsplit[1])\n",
    "        self.char = numsplit[1]\n",
    "\n",
    "    def check_rule(self, test):\n",
    "        num = test.count(self.char)\n",
    "        return num >= self.min and num <= self.max"
   ]
  },
  {
   "cell_type": "code",
   "execution_count": 110,
   "metadata": {},
   "outputs": [],
   "source": [
    "data = []\n",
    "with open(\"inputs/2_1.txt\", \"r\") as file:\n",
    "    data = file.readlines()"
   ]
  },
  {
   "cell_type": "code",
   "execution_count": 111,
   "metadata": {},
   "outputs": [
    {
     "name": "stdout",
     "output_type": "stream",
     "text": [
      "Solution:  542\n"
     ]
    }
   ],
   "source": [
    "def rowcheck(row):\n",
    "    ruledata = row.split(\":\");\n",
    "    r = rule(ruledata[0])\n",
    "    pwd = ruledata[1].replace(\" \", \"\").replace(\"\\n\", \"\")\n",
    "    return int(r.check_rule(pwd))\n",
    "\n",
    "solution = sum(map(rowcheck, data))\n",
    "print(\"Solution: \", solution)"
   ]
  },
  {
   "cell_type": "code",
   "execution_count": 114,
   "metadata": {},
   "outputs": [],
   "source": [
    "class rule2:\n",
    "    def __init__(self, r):\n",
    "        numsplit = r.split(\" \")\n",
    "        minmaxsplit = numsplit[0].split(\"-\")\n",
    "        self.min = int(minmaxsplit[0])\n",
    "        self.max = int(minmaxsplit[1])\n",
    "        self.char = numsplit[1]\n",
    "\n",
    "    def check_rule(self, test):\n",
    "        return (bool(test[self.min-1] == self.char) ^  bool(test[self.max-1] == self.char))"
   ]
  },
  {
   "cell_type": "code",
   "execution_count": 115,
   "metadata": {},
   "outputs": [
    {
     "name": "stdout",
     "output_type": "stream",
     "text": [
      "Solution:  360\n"
     ]
    }
   ],
   "source": [
    "def rowcheck2(row):\n",
    "    ruledata = row.split(\":\");\n",
    "    r = rule2(ruledata[0])\n",
    "    pwd = ruledata[1].replace(\" \", \"\").replace(\"\\n\", \"\")\n",
    "    return int(r.check_rule(pwd))\n",
    "\n",
    "solution = sum(map(rowcheck2, data))\n",
    "print(\"Solution: \", solution)"
   ]
  }
 ],
 "metadata": {
  "kernelspec": {
   "display_name": "Python 3",
   "language": "python",
   "name": "python3"
  },
  "language_info": {
   "codemirror_mode": {
    "name": "ipython",
    "version": 3
   },
   "file_extension": ".py",
   "mimetype": "text/x-python",
   "name": "python",
   "nbconvert_exporter": "python",
   "pygments_lexer": "ipython3",
   "version": "3.7.4"
  }
 },
 "nbformat": 4,
 "nbformat_minor": 2
}
