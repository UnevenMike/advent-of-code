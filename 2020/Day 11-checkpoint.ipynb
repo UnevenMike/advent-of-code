{
 "cells": [
  {
   "cell_type": "code",
   "execution_count": 182,
   "metadata": {},
   "outputs": [],
   "source": [
    "OPEN = 'L'\n",
    "CLOSED = '#'\n",
    "FLOOR = '.'"
   ]
  },
  {
   "cell_type": "code",
   "execution_count": 183,
   "metadata": {},
   "outputs": [
    {
     "name": "stdout",
     "output_type": "stream",
     "text": [
      "10 10 100 [['L', '.', 'L', 'L', '.', 'L', 'L', '.', 'L', 'L'], ['L', 'L', 'L', 'L', 'L', 'L', 'L', '.', 'L', 'L'], ['L', '.', 'L', '.', 'L', '.', '.', 'L', '.', '.'], ['L', 'L', 'L', 'L', '.', 'L', 'L', '.', 'L', 'L'], ['L', '.', 'L', 'L', '.', 'L', 'L', '.', 'L', 'L'], ['L', '.', 'L', 'L', 'L', 'L', 'L', '.', 'L', 'L'], ['.', '.', 'L', '.', 'L', '.', '.', '.', '.', '.'], ['L', 'L', 'L', 'L', 'L', 'L', 'L', 'L', 'L', 'L'], ['L', '.', 'L', 'L', 'L', 'L', 'L', 'L', '.', 'L'], ['L', '.', 'L', 'L', 'L', 'L', 'L', '.', 'L', 'L']]\n"
     ]
    }
   ],
   "source": [
    "input_data = open('inputs/11_1.txt', 'r').read().split(\"\\n\")\n",
    "input_data = [[ch for ch in x] for x in input_data]\n",
    "x = len(input_data)\n",
    "y = len(input_data[0])\n",
    "print(x, y, x*y, input_data)"
   ]
  },
  {
   "cell_type": "code",
   "execution_count": 184,
   "metadata": {},
   "outputs": [],
   "source": [
    "class seat:\n",
    "    def __init__(self, char, x, y):\n",
    "        self.state = char\n",
    "        self.pos = (x,y)\n",
    "        \n",
    "    def neighbors(self, max_x, max_y):\n",
    "        x = self.pos[0]\n",
    "        y = self.pos[1]\n",
    "        \n",
    "        all_adj = [(x-1, y-1), (x-1, y), (x-1, y+1), (x, y-1), (x, y+1), (x+1, y-1), (x+1, y), (x+1, y+1)]\n",
    "        adj = [pos for pos in all_adj if (pos[0] >= 0 and pos[0] < max_x and pos[1] >= 0 and pos[1] < max_y)]\n",
    "        indexs = [ max_y * pos[0] + pos[1] for pos in adj ]\n",
    "        if (8191 in indexs): \n",
    "            print(self.pos, all_adj, adj)\n",
    "        return indexs\n",
    "                            \n",
    "\n",
    "class lobby:\n",
    "    def __init__(self, x, y, data):\n",
    "        self.x = x\n",
    "        self.y = y\n",
    "        self.seats = []\n",
    "        for i in range(x):\n",
    "            for j in range(y):\n",
    "                self.seats.append(seat(data[i][j], i, j))\n",
    "                \n",
    "    def inc(self):\n",
    "        new_seats = []\n",
    "        for i in range(self.x):\n",
    "            for j in range(self.y):\n",
    "                chair = self.seats[self.y * i + j]\n",
    "                \n",
    "                neighbors = chair.neighbors(self.x, self.y)\n",
    "#                 print(neighbors)\n",
    "                states = [s.state for s in [self.seats[ind] for ind in neighbors]]\n",
    "                s = \"\".join(states)\n",
    "                full = s.count(CLOSED);\n",
    "                    \n",
    "                if chair.state == FLOOR:\n",
    "                    new_seats.append(seat(FLOOR, i, j))\n",
    "                elif chair.state == OPEN:\n",
    "                    new_seats.append(seat(CLOSED if full == 0 else OPEN ,i,j))\n",
    "                elif chair.state == CLOSED:\n",
    "                    new_seats.append(seat(OPEN if full >= 5 else CLOSED ,i,j))\n",
    "        \n",
    "        isSame = True;\n",
    "        \n",
    "        for i in range(self.x):\n",
    "            for j in range(self.y):\n",
    "                old_state = self.seats[self.y * i + j].state\n",
    "                new_state = new_seats[self.y * i + j].state\n",
    "                if old_state != new_state:\n",
    "                    isSame = False\n",
    "                    \n",
    "        self.seats = new_seats\n",
    "        return isSame\n",
    "                    "
   ]
  },
  {
   "cell_type": "code",
   "execution_count": 185,
   "metadata": {},
   "outputs": [
    {
     "name": "stdout",
     "output_type": "stream",
     "text": [
      "10 10\n"
     ]
    }
   ],
   "source": [
    "l = lobby(x,y,input_data)\n",
    "print(l.x, l.y)"
   ]
  },
  {
   "cell_type": "code",
   "execution_count": 186,
   "metadata": {},
   "outputs": [
    {
     "data": {
      "text/plain": [
       "['L',\n",
       " '.',\n",
       " 'L',\n",
       " 'L',\n",
       " '.',\n",
       " 'L',\n",
       " 'L',\n",
       " '.',\n",
       " 'L',\n",
       " 'L',\n",
       " 'L',\n",
       " 'L',\n",
       " 'L',\n",
       " 'L',\n",
       " 'L',\n",
       " 'L',\n",
       " 'L',\n",
       " '.',\n",
       " 'L',\n",
       " 'L',\n",
       " 'L',\n",
       " '.',\n",
       " 'L',\n",
       " '.',\n",
       " 'L',\n",
       " '.',\n",
       " '.',\n",
       " 'L',\n",
       " '.',\n",
       " '.',\n",
       " 'L',\n",
       " 'L',\n",
       " 'L',\n",
       " 'L',\n",
       " '.',\n",
       " 'L',\n",
       " 'L',\n",
       " '.',\n",
       " 'L',\n",
       " 'L',\n",
       " 'L',\n",
       " '.',\n",
       " 'L',\n",
       " 'L',\n",
       " '.',\n",
       " 'L',\n",
       " 'L',\n",
       " '.',\n",
       " 'L',\n",
       " 'L',\n",
       " 'L',\n",
       " '.',\n",
       " 'L',\n",
       " 'L',\n",
       " 'L',\n",
       " 'L',\n",
       " 'L',\n",
       " '.',\n",
       " 'L',\n",
       " 'L',\n",
       " '.',\n",
       " '.',\n",
       " 'L',\n",
       " '.',\n",
       " 'L',\n",
       " '.',\n",
       " '.',\n",
       " '.',\n",
       " '.',\n",
       " '.',\n",
       " 'L',\n",
       " 'L',\n",
       " 'L',\n",
       " 'L',\n",
       " 'L',\n",
       " 'L',\n",
       " 'L',\n",
       " 'L',\n",
       " 'L',\n",
       " 'L',\n",
       " 'L',\n",
       " '.',\n",
       " 'L',\n",
       " 'L',\n",
       " 'L',\n",
       " 'L',\n",
       " 'L',\n",
       " 'L',\n",
       " '.',\n",
       " 'L',\n",
       " 'L',\n",
       " '.',\n",
       " 'L',\n",
       " 'L',\n",
       " 'L',\n",
       " 'L',\n",
       " 'L',\n",
       " '.',\n",
       " 'L',\n",
       " 'L']"
      ]
     },
     "execution_count": 186,
     "metadata": {},
     "output_type": "execute_result"
    }
   ],
   "source": [
    "[s.state for s in l.seats]"
   ]
  },
  {
   "cell_type": "code",
   "execution_count": 187,
   "metadata": {},
   "outputs": [
    {
     "name": "stdout",
     "output_type": "stream",
     "text": [
      "6 37\n"
     ]
    }
   ],
   "source": [
    "count = 1\n",
    "while not l.inc():\n",
    "    count+=1\n",
    "print(count, \"\".join([s.state for s in l.seats]).count(CLOSED))"
   ]
  },
  {
   "cell_type": "code",
   "execution_count": null,
   "metadata": {},
   "outputs": [],
   "source": []
  },
  {
   "cell_type": "code",
   "execution_count": null,
   "metadata": {},
   "outputs": [],
   "source": []
  }
 ],
 "metadata": {
  "kernelspec": {
   "display_name": "Python 3",
   "language": "python",
   "name": "python3"
  },
  "language_info": {
   "codemirror_mode": {
    "name": "ipython",
    "version": 3
   },
   "file_extension": ".py",
   "mimetype": "text/x-python",
   "name": "python",
   "nbconvert_exporter": "python",
   "pygments_lexer": "ipython3",
   "version": "3.7.4"
  }
 },
 "nbformat": 4,
 "nbformat_minor": 2
}
