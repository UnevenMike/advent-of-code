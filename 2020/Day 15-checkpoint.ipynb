{
 "cells": [
  {
   "cell_type": "code",
   "execution_count": 164,
   "metadata": {},
   "outputs": [],
   "source": [
    "numbers = [12,20,0,6,1,17,7]\n",
    "memory = {}\n",
    "iterations = 30000000"
   ]
  },
  {
   "cell_type": "code",
   "execution_count": 165,
   "metadata": {},
   "outputs": [
    {
     "name": "stdout",
     "output_type": "stream",
     "text": [
      "Wall time: 43.8 s\n"
     ]
    }
   ],
   "source": [
    "%%time\n",
    "answer = -1\n",
    "for i in range(iterations):\n",
    "    if i < len(numbers):\n",
    "        answer = numbers[i]\n",
    "        memory.update({numbers[i] : [i]})\n",
    "    else:\n",
    "        value = numbers[i-1]\n",
    "\n",
    "        if len(memory[value]) == 1:\n",
    "            answer = 0\n",
    "        else:\n",
    "            age = memory[value][-2]\n",
    "            answer = i - age - 1\n",
    "        \n",
    "        numbers.append(answer)\n",
    "        \n",
    "        if (answer in memory.keys()):\n",
    "            memory[answer].append(i)\n",
    "        else:\n",
    "            memory.update({answer : [i]})\n"
   ]
  },
  {
   "cell_type": "code",
   "execution_count": 167,
   "metadata": {},
   "outputs": [
    {
     "name": "stdout",
     "output_type": "stream",
     "text": [
      "Solution:  0\n"
     ]
    }
   ],
   "source": [
    "print(\"Solution: \", answer)"
   ]
  },
  {
   "cell_type": "code",
   "execution_count": null,
   "metadata": {},
   "outputs": [],
   "source": []
  }
 ],
 "metadata": {
  "kernelspec": {
   "display_name": "Python 3",
   "language": "python",
   "name": "python3"
  },
  "language_info": {
   "codemirror_mode": {
    "name": "ipython",
    "version": 3
   },
   "file_extension": ".py",
   "mimetype": "text/x-python",
   "name": "python",
   "nbconvert_exporter": "python",
   "pygments_lexer": "ipython3",
   "version": "3.7.4"
  }
 },
 "nbformat": 4,
 "nbformat_minor": 2
}
