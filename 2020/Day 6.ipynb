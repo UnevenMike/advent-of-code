{
 "cells": [
  {
   "cell_type": "code",
   "execution_count": 62,
   "metadata": {},
   "outputs": [],
   "source": [
    "data = open('inputs/6_1.txt', 'r').read().split(\"\\n\\n\")"
   ]
  },
  {
   "cell_type": "code",
   "execution_count": 63,
   "metadata": {
    "scrolled": true
   },
   "outputs": [
    {
     "name": "stdout",
     "output_type": "stream",
     "text": [
      "7027\n"
     ]
    }
   ],
   "source": [
    "part_1 = sum([len(set(x.replace(\"\\n\", \"\"))) for x in data])\n",
    "print(part_1)"
   ]
  },
  {
   "cell_type": "code",
   "execution_count": 64,
   "metadata": {},
   "outputs": [
    {
     "name": "stdout",
     "output_type": "stream",
     "text": [
      "3579\n"
     ]
    }
   ],
   "source": [
    "groups = [x.split(\"\\n\") for x in data]\n",
    "part_2 = sum([len(set.intersection(*[set(x) for x in group])) for group in groups])\n",
    "print(part_2)"
   ]
  },
  {
   "cell_type": "code",
   "execution_count": 74,
   "metadata": {},
   "outputs": [
    {
     "name": "stdout",
     "output_type": "stream",
     "text": [
      "7027\n",
      "3579\n",
      "Wall time: 6 ms\n"
     ]
    }
   ],
   "source": [
    "%%time\n",
    "\n",
    "data = open('inputs/6_1.txt', 'r').read().split(\"\\n\\n\")\n",
    "\n",
    "part_1 = sum([len(set(x.replace(\"\\n\", \"\"))) for x in data])\n",
    "part_2 = sum([len(set.intersection(*[set(x) for x in group])) for group in [x.split(\"\\n\") for x in data]])\n",
    "\n",
    "print(part_1)\n",
    "print(part_2)"
   ]
  }
 ],
 "metadata": {
  "kernelspec": {
   "display_name": "Python 3",
   "language": "python",
   "name": "python3"
  },
  "language_info": {
   "codemirror_mode": {
    "name": "ipython",
    "version": 3
   },
   "file_extension": ".py",
   "mimetype": "text/x-python",
   "name": "python",
   "nbconvert_exporter": "python",
   "pygments_lexer": "ipython3",
   "version": "3.7.4"
  }
 },
 "nbformat": 4,
 "nbformat_minor": 2
}
