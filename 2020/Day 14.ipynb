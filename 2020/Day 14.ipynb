{
 "cells": [
  {
   "cell_type": "code",
   "execution_count": 205,
   "metadata": {},
   "outputs": [],
   "source": [
    "class u_36:\n",
    "    def __init__(self, value):\n",
    "        self.value = value\n",
    "        self.bits = self.__build_bits(value)\n",
    "        \n",
    "    def __build_bits(self, value):\n",
    "        b = bin(value)[2:].zfill(36)\n",
    "        return b\n",
    "    \n",
    "    def value_mask(self, mask):\n",
    "        s = \"\"\n",
    "        for i in range(36):\n",
    "            if mask[i] == 'X':\n",
    "                s += self.bits[i]\n",
    "            elif mask[i] == '0':\n",
    "                s += '0'\n",
    "            elif mask[i] == '1':\n",
    "                s += '1'\n",
    "        return s\n",
    "    \n",
    "    def addr_mask(self, mask):\n",
    "        s = \"\"\n",
    "        for i in range(36):\n",
    "            if mask[i] == 'X':\n",
    "                s += 'X'\n",
    "            elif mask[i] == '0':\n",
    "                s += self.bits[i]\n",
    "            elif mask[i] == '1':\n",
    "                s += '1'\n",
    "        return s\n",
    "    \n",
    "class memory:\n",
    "    def __init__(self):\n",
    "        self.mem = {}\n",
    "    \n",
    "    def add(self, u36_addr, mask, value):\n",
    "        masked_addr = u36_addr.addr_mask(mask)\n",
    "        \n",
    "        xs = masked_addr.count('X')\n",
    "        \n",
    "        for i in range(2**xs):\n",
    "            masked_addr_list = list(masked_addr)\n",
    "            b = bin(i)[2:].zfill(xs)\n",
    "            for c in b:\n",
    "                index = masked_addr_list.index('X')\n",
    "                masked_addr_list[index] = c\n",
    "            self.mem.update({int(\"\".join(masked_addr_list),2) : value})\n",
    "        "
   ]
  },
  {
   "cell_type": "code",
   "execution_count": 206,
   "metadata": {},
   "outputs": [],
   "source": [
    "input_data = open('inputs/14.txt', 'r').read().split(\"\\n\")\n",
    "input_data = [x.split(' = ') for x in input_data]"
   ]
  },
  {
   "cell_type": "code",
   "execution_count": 207,
   "metadata": {},
   "outputs": [],
   "source": [
    "mask = ''\n",
    "mem = {}\n",
    "for i in input_data:\n",
    "    if i[0] == 'mask':\n",
    "        mask = i[1]\n",
    "    else:\n",
    "        addr = int(i[0][4:-1])\n",
    "        data = u_36(int(i[1]))\n",
    "        masked_value = data.value_mask(mask)\n",
    "        if addr in mem.keys():\n",
    "            mem[addr] = masked_value\n",
    "        else:\n",
    "            mem.update({addr : masked_value})"
   ]
  },
  {
   "cell_type": "code",
   "execution_count": 208,
   "metadata": {},
   "outputs": [
    {
     "name": "stdout",
     "output_type": "stream",
     "text": [
      "Solution 1:  18630548206046\n"
     ]
    }
   ],
   "source": [
    "print(\"Solution 1: \", sum([int(mem[key], 2) for key in mem.keys()]))"
   ]
  },
  {
   "cell_type": "code",
   "execution_count": 209,
   "metadata": {},
   "outputs": [],
   "source": [
    "mask = ''\n",
    "mem = memory()\n",
    "for i in input_data:\n",
    "    if i[0] == 'mask':\n",
    "        mask = i[1]\n",
    "    else:\n",
    "        addr = u_36(int(i[0][4:-1]))\n",
    "        data = int(i[1])\n",
    "        mem.add(addr, mask, data)"
   ]
  },
  {
   "cell_type": "code",
   "execution_count": 210,
   "metadata": {
    "scrolled": true
   },
   "outputs": [
    {
     "name": "stdout",
     "output_type": "stream",
     "text": [
      "Solution 2:  4254673508445\n"
     ]
    }
   ],
   "source": [
    "print(\"Solution 2: \", sum([mem.mem[key] for key in mem.mem.keys()]))"
   ]
  },
  {
   "cell_type": "code",
   "execution_count": 204,
   "metadata": {},
   "outputs": [
    {
     "data": {
      "text/plain": [
       "75040"
      ]
     },
     "execution_count": 204,
     "metadata": {},
     "output_type": "execute_result"
    }
   ],
   "source": []
  },
  {
   "cell_type": "code",
   "execution_count": null,
   "metadata": {},
   "outputs": [],
   "source": []
  }
 ],
 "metadata": {
  "kernelspec": {
   "display_name": "Python 3",
   "language": "python",
   "name": "python3"
  },
  "language_info": {
   "codemirror_mode": {
    "name": "ipython",
    "version": 3
   },
   "file_extension": ".py",
   "mimetype": "text/x-python",
   "name": "python",
   "nbconvert_exporter": "python",
   "pygments_lexer": "ipython3",
   "version": "3.7.4"
  }
 },
 "nbformat": 4,
 "nbformat_minor": 2
}
