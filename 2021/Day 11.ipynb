{
 "cells": [
  {
   "cell_type": "code",
   "execution_count": 38,
   "metadata": {},
   "outputs": [],
   "source": [
    "class Grid():\n",
    "    def __init__(self, data):\n",
    "        self.grid = data\n",
    "        \n",
    "    def step(self):\n",
    "        data = []\n",
    "        for row in self.grid:\n",
    "            data.append(list(map(lambda x: x+1, row)))\n",
    "        self.grid = data\n",
    "        \n",
    "    def flash(self):\n",
    "        count = 0\n",
    "        data = []\n",
    "        for row in self.grid:\n",
    "            count += row.count(9)\n",
    "            data.append(list(map(lambda x: 0 if x == 9 else x, row)))\n",
    "        self.grid = data\n",
    "        count = count + self._iterate_flash()\n",
    "        return count\n",
    "            \n",
    "        \n",
    "    def _iterate_flash(self):\n",
    "        height = len(self.grid)\n",
    "        width = len(self.grid)\n",
    "        count = 0\n",
    "        done = False:\n",
    "        while done:\n",
    "            new_count = 0\n",
    "            if new_count == 0:\n",
    "                done = True\n",
    "        retru"
   ]
  },
  {
   "cell_type": "code",
   "execution_count": 39,
   "metadata": {},
   "outputs": [
    {
     "data": {
      "text/plain": [
       "[[5, 4, 8, 3, 1, 4, 3, 2, 2, 3],\n",
       " [2, 7, 4, 5, 8, 5, 4, 7, 1, 1],\n",
       " [5, 2, 6, 4, 5, 5, 6, 1, 7, 3],\n",
       " [6, 1, 4, 1, 3, 3, 6, 1, 4, 6],\n",
       " [6, 3, 5, 7, 3, 8, 5, 4, 7, 8],\n",
       " [4, 1, 6, 7, 5, 2, 4, 6, 4, 5],\n",
       " [2, 1, 7, 6, 8, 4, 1, 7, 2, 1],\n",
       " [6, 8, 8, 2, 8, 8, 1, 1, 3, 4],\n",
       " [4, 8, 4, 6, 8, 4, 8, 5, 5, 4],\n",
       " [5, 2, 8, 3, 7, 5, 1, 5, 2, 6]]"
      ]
     },
     "execution_count": 39,
     "metadata": {},
     "output_type": "execute_result"
    }
   ],
   "source": [
    "data = []\n",
    "with open(\"input_11.txt\", \"r\") as file:\n",
    "    lines = file.readlines()\n",
    "    data = [[int(c) for c in x.replace('\\n', '')] for x in lines]\n",
    "    \n",
    "data"
   ]
  },
  {
   "cell_type": "code",
   "execution_count": 40,
   "metadata": {},
   "outputs": [],
   "source": [
    "g = Grid(data)"
   ]
  },
  {
   "cell_type": "code",
   "execution_count": 49,
   "metadata": {},
   "outputs": [
    {
     "data": {
      "text/plain": [
       "[[7, 6, 1, 5, 3, 6, 5, 4, 4, 5],\n",
       " [4, 0, 6, 7, 1, 7, 6, 0, 3, 3],\n",
       " [7, 4, 8, 6, 7, 7, 8, 3, 0, 5],\n",
       " [8, 3, 6, 3, 5, 5, 8, 3, 6, 8],\n",
       " [8, 5, 7, 0, 5, 1, 7, 6, 0, 1],\n",
       " [6, 3, 8, 0, 7, 4, 6, 8, 6, 7],\n",
       " [4, 3, 0, 8, 1, 6, 3, 0, 4, 3],\n",
       " [8, 1, 1, 4, 1, 1, 3, 3, 5, 6],\n",
       " [6, 1, 6, 8, 1, 6, 1, 7, 7, 6],\n",
       " [7, 4, 1, 5, 0, 7, 3, 7, 4, 8]]"
      ]
     },
     "execution_count": 49,
     "metadata": {},
     "output_type": "execute_result"
    }
   ],
   "source": [
    "g.grid"
   ]
  },
  {
   "cell_type": "code",
   "execution_count": 50,
   "metadata": {},
   "outputs": [
    {
     "data": {
      "text/plain": [
       "[[8, 7, 2, 6, 4, 7, 6, 5, 5, 6],\n",
       " [5, 1, 7, 8, 2, 8, 7, 1, 4, 4],\n",
       " [8, 5, 9, 7, 8, 8, 9, 4, 1, 6],\n",
       " [9, 4, 7, 4, 6, 6, 9, 4, 7, 9],\n",
       " [9, 6, 8, 1, 6, 2, 8, 7, 1, 2],\n",
       " [7, 4, 9, 1, 8, 5, 7, 9, 7, 8],\n",
       " [5, 4, 1, 9, 2, 7, 4, 1, 5, 4],\n",
       " [9, 2, 2, 5, 2, 2, 4, 4, 6, 7],\n",
       " [7, 2, 7, 9, 2, 7, 2, 8, 8, 7],\n",
       " [8, 5, 2, 6, 1, 8, 4, 8, 5, 9]]"
      ]
     },
     "execution_count": 50,
     "metadata": {},
     "output_type": "execute_result"
    }
   ],
   "source": [
    "g.step()\n",
    "g.grid"
   ]
  },
  {
   "cell_type": "code",
   "execution_count": 51,
   "metadata": {},
   "outputs": [
    {
     "data": {
      "text/plain": [
       "12"
      ]
     },
     "execution_count": 51,
     "metadata": {},
     "output_type": "execute_result"
    }
   ],
   "source": [
    "g.flash()"
   ]
  },
  {
   "cell_type": "code",
   "execution_count": null,
   "metadata": {},
   "outputs": [],
   "source": []
  }
 ],
 "metadata": {
  "kernelspec": {
   "display_name": "Python 3",
   "language": "python",
   "name": "python3"
  },
  "language_info": {
   "codemirror_mode": {
    "name": "ipython",
    "version": 3
   },
   "file_extension": ".py",
   "mimetype": "text/x-python",
   "name": "python",
   "nbconvert_exporter": "python",
   "pygments_lexer": "ipython3",
   "version": "3.7.4"
  }
 },
 "nbformat": 4,
 "nbformat_minor": 2
}
