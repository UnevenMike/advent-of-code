{
 "cells": [
  {
   "cell_type": "code",
   "execution_count": 75,
   "metadata": {},
   "outputs": [],
   "source": [
    "data = []\n",
    "with open(\"input_10.txt\", \"r\") as file:\n",
    "    lines = file.readlines()\n",
    "    data = [[[c for c in x.replace('\\n', '')], True] for x in lines]\n"
   ]
  },
  {
   "cell_type": "code",
   "execution_count": null,
   "metadata": {},
   "outputs": [],
   "source": []
  },
  {
   "cell_type": "code",
   "execution_count": 76,
   "metadata": {},
   "outputs": [],
   "source": [
    "for d in data:\n",
    "    stack = []\n",
    "    for char in d[0]:\n",
    "        if char in '([{<':\n",
    "            stack.append(char)\n",
    "        else:\n",
    "            o = stack.pop()\n",
    "            if (o == '(' and char == ')') or (o == '[' and char == ']') or (o == '{' and char == '}') or (o == '<' and char == '>'): \n",
    "                pass\n",
    "            else:\n",
    "                d[1] = False\n",
    "                break\n",
    "\n",
    "incomp = list(filter(lambda x: x[1], data))"
   ]
  },
  {
   "cell_type": "code",
   "execution_count": 77,
   "metadata": {},
   "outputs": [],
   "source": [
    "close = {'(': ')',\n",
    "         '{' : '}',\n",
    "         '[' : ']',\n",
    "         '<' : '>'}\n",
    "pts = {')': 1,\n",
    "       ']' : 2,\n",
    "       '}' : 3,\n",
    "       '>' : 4}"
   ]
  },
  {
   "cell_type": "code",
   "execution_count": 78,
   "metadata": {},
   "outputs": [
    {
     "data": {
      "text/plain": [
       "3122628974"
      ]
     },
     "execution_count": 78,
     "metadata": {},
     "output_type": "execute_result"
    }
   ],
   "source": [
    "scores = []\n",
    "for d in incomp:\n",
    "    stack = []\n",
    "    for char in d[0]:\n",
    "        if char in '([{<':\n",
    "            stack.append(char)\n",
    "        else:\n",
    "            o = stack.pop()\n",
    "    complete = []\n",
    "    while len(stack) > 0:\n",
    "        c = stack.pop()\n",
    "        complete.append(close[c])\n",
    "        \n",
    "    score = 0\n",
    "    for c in complete:\n",
    "        score = score * 5 + pts[c]\n",
    "    scores.append(score)\n",
    "\n",
    "scores = sorted(scores)\n",
    "scores[len(scores)//2]"
   ]
  },
  {
   "cell_type": "code",
   "execution_count": null,
   "metadata": {},
   "outputs": [],
   "source": []
  },
  {
   "cell_type": "code",
   "execution_count": null,
   "metadata": {},
   "outputs": [],
   "source": []
  },
  {
   "cell_type": "code",
   "execution_count": 28,
   "metadata": {},
   "outputs": [
    {
     "data": {
      "text/plain": [
       "411471"
      ]
     },
     "execution_count": 28,
     "metadata": {},
     "output_type": "execute_result"
    }
   ],
   "source": [
    "score = 0\n",
    "for char in bad_chars:\n",
    "    if char == ')':\n",
    "        score += 3\n",
    "    elif char == ']':\n",
    "        score += 57\n",
    "    elif char == '}':\n",
    "        score += 1197\n",
    "    elif char == '>':\n",
    "        score += 25137\n",
    "score"
   ]
  },
  {
   "cell_type": "code",
   "execution_count": null,
   "metadata": {},
   "outputs": [],
   "source": []
  }
 ],
 "metadata": {
  "kernelspec": {
   "display_name": "Python 3",
   "language": "python",
   "name": "python3"
  },
  "language_info": {
   "codemirror_mode": {
    "name": "ipython",
    "version": 3
   },
   "file_extension": ".py",
   "mimetype": "text/x-python",
   "name": "python",
   "nbconvert_exporter": "python",
   "pygments_lexer": "ipython3",
   "version": "3.7.4"
  }
 },
 "nbformat": 4,
 "nbformat_minor": 2
}
