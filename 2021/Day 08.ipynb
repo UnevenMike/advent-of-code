{
 "cells": [
  {
   "cell_type": "code",
   "execution_count": 128,
   "metadata": {},
   "outputs": [],
   "source": [
    "data = []\n",
    "with open(\"input_08.txt\", \"r\") as file:\n",
    "    lines = file.readlines()\n",
    "    data = [x.replace('\\n', '') for x in lines]\n",
    "    data = [x.split(\" | \") for x in data]\n"
   ]
  },
  {
   "cell_type": "code",
   "execution_count": null,
   "metadata": {},
   "outputs": [],
   "source": []
  },
  {
   "cell_type": "code",
   "execution_count": 130,
   "metadata": {},
   "outputs": [
    {
     "data": {
      "text/plain": [
       "989396"
      ]
     },
     "execution_count": 130,
     "metadata": {},
     "output_type": "execute_result"
    }
   ],
   "source": [
    "count = 0\n",
    "for d in data:\n",
    "    m = {}\n",
    "    alpha = {}\n",
    "    unique = d[0].split(\" \")\n",
    "    output = d[1].split(\" \")\n",
    "\n",
    "    one = set(sorted(list(filter(lambda x: len(x) == 2, unique))[0]))\n",
    "    m.update({str(one) : 1})\n",
    "    \n",
    "    seven = set(sorted(list(filter(lambda x: len(x) == 3, unique))[0]))\n",
    "    m.update({str(seven) : 7})\n",
    "    \n",
    "    four = set(sorted(list(filter(lambda x: len(x) == 4, unique))[0]))\n",
    "    m.update({str(four) : 4})\n",
    "\n",
    "    eight = set(sorted(list(filter(lambda x: len(x) == 7, unique))[0]))\n",
    "    m.update({str(eight) : 8})\n",
    "\n",
    "    three = set(sorted(list(filter(lambda x: len(x) == 5 and one.issubset(set(sorted(x))) , unique))[0]))\n",
    "    m.update({str(three) : 3})\n",
    "    \n",
    "    alpha.update({'a': next(iter(seven - one))})\n",
    "    alpha.update({'d': next(iter(four & three - one))})\n",
    "    alpha.update({'b': next(iter(four - (four & three - one) - one))})\n",
    "    alpha.update({'e': next(iter(eight - three - four))})\n",
    "    alpha.update({'g': next(iter(three - four - set(alpha['a'])))})\n",
    "\n",
    "    two = set(sorted(list(filter(lambda x: len(x) == 5 and alpha['e'] in x, unique ))[0]))\n",
    "    m.update({str(two) : 2})\n",
    "    \n",
    "    five = set(sorted(list(filter(lambda x: len(x) == 5 and alpha['b'] in x, unique ))[0]))\n",
    "    m.update({str(five) : 5})\n",
    "\n",
    "    alpha.update({'c': next(iter(two - five - set(alpha['e'])))})\n",
    "    alpha.update({'f': next(iter(five - two - set(alpha['b'])))})\n",
    "\n",
    "    zero = set(sorted(list(filter(lambda x: len(x) == 6 and alpha['d'] not in x, unique ))[0]))\n",
    "    m.update({str(zero) : 0})\n",
    "    \n",
    "    six = set(sorted(list(filter(lambda x: len(x) == 6 and alpha['c'] not in x, unique ))[0]))\n",
    "    m.update({str(six) : 6})\n",
    "    \n",
    "    nine = set(sorted(list(filter(lambda x: len(x) == 6 and alpha['e'] not in x, unique ))[0]))\n",
    "    m.update({str(nine) : 9})  \n",
    "\n",
    "    num_list = []\n",
    "    for x in output:\n",
    "        s = set(sorted(x))\n",
    "        num = m[str(s)]\n",
    "        num_list.append(str(num))\n",
    "    count += int(\"\".join(num_list))\n",
    "    \n",
    "count"
   ]
  },
  {
   "cell_type": "code",
   "execution_count": null,
   "metadata": {},
   "outputs": [],
   "source": []
  }
 ],
 "metadata": {
  "kernelspec": {
   "display_name": "Python 3",
   "language": "python",
   "name": "python3"
  },
  "language_info": {
   "codemirror_mode": {
    "name": "ipython",
    "version": 3
   },
   "file_extension": ".py",
   "mimetype": "text/x-python",
   "name": "python",
   "nbconvert_exporter": "python",
   "pygments_lexer": "ipython3",
   "version": "3.7.4"
  }
 },
 "nbformat": 4,
 "nbformat_minor": 2
}
