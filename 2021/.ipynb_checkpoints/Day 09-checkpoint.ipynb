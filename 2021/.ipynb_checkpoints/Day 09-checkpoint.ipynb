{
 "cells": [
  {
   "cell_type": "code",
   "execution_count": 104,
   "metadata": {},
   "outputs": [],
   "source": [
    "import time"
   ]
  },
  {
   "cell_type": "code",
   "execution_count": 105,
   "metadata": {},
   "outputs": [],
   "source": [
    "data = []\n",
    "with open(\"input_09.txt\", \"r\") as file:\n",
    "    lines = file.readlines()\n",
    "    data = [x.replace(\"\\n\", \"\") for x in lines]\n",
    "    data = [[int(c) for c in x] for x in data]"
   ]
  },
  {
   "cell_type": "code",
   "execution_count": 106,
   "metadata": {},
   "outputs": [
    {
     "data": {
      "text/plain": [
       "(100, 100)"
      ]
     },
     "execution_count": 106,
     "metadata": {},
     "output_type": "execute_result"
    }
   ],
   "source": [
    "height = len(data)\n",
    "width = len(data[0])\n",
    "(height, width)"
   ]
  },
  {
   "cell_type": "code",
   "execution_count": 111,
   "metadata": {},
   "outputs": [],
   "source": [
    "#Recursivly walk through a basin, starting at the lowest point, counting any squares that haven't been visited.\n",
    "visited = []\n",
    "def count_basin(i, j):\n",
    "    if (i,j) in visited:\n",
    "        return 0\n",
    "    visited.append((i,j))\n",
    "    \n",
    "    count = 1\n",
    "    if data[i][j] == 9:\n",
    "        return 0\n",
    "    \n",
    "    if i - 1 >= 0:\n",
    "        down = count_basin(i-1, j)\n",
    "        count = count + down\n",
    "        \n",
    "    if i + 1 < height:\n",
    "        count = count + count_basin(i+1, j)\n",
    "        \n",
    "    if j - 1 >= 0:\n",
    "        count = count + count_basin(i, j-1)\n",
    "        \n",
    "    if j + 1 < width:\n",
    "        count = count + count_basin(i, j+1)\n",
    "        \n",
    "    return count"
   ]
  },
  {
   "cell_type": "code",
   "execution_count": null,
   "metadata": {},
   "outputs": [],
   "source": []
  },
  {
   "cell_type": "code",
   "execution_count": 112,
   "metadata": {},
   "outputs": [],
   "source": [
    "# Get a list of all low points\n",
    "low_points = []\n",
    "for i in range(height):\n",
    "    for j in range(width):\n",
    "        h = data[i][j]\n",
    "        lowest = True\n",
    "        if i - 1 >= 0 and data[i-1][j] <= h:\n",
    "            lowest = False\n",
    "        if i + 1 < height and data[i+1][j] <= h:\n",
    "            lowest = False\n",
    "        if j - 1 >= 0 and data[i][j-1] <= h:\n",
    "            lowest = False\n",
    "        if j + 1 < width and data[i][j+1] <= h:\n",
    "            lowest = False\n",
    "        if lowest:\n",
    "            low_points.append((i,j))"
   ]
  },
  {
   "cell_type": "code",
   "execution_count": 113,
   "metadata": {},
   "outputs": [],
   "source": [
    "sizes = []\n",
    "for pt in low_points:\n",
    "    visited = []\n",
    "    size = count_basin(pt[0], pt[1])\n",
    "    sizes.append(size)"
   ]
  },
  {
   "cell_type": "code",
   "execution_count": 114,
   "metadata": {},
   "outputs": [
    {
     "name": "stdout",
     "output_type": "stream",
     "text": [
      "1048128\n"
     ]
    }
   ],
   "source": [
    "sizes = sorted(sizes, reverse=True)\n",
    "print(sizes[0] * sizes[1] * sizes[2])"
   ]
  },
  {
   "cell_type": "code",
   "execution_count": null,
   "metadata": {},
   "outputs": [],
   "source": []
  },
  {
   "cell_type": "code",
   "execution_count": 110,
   "metadata": {},
   "outputs": [],
   "source": []
  }
 ],
 "metadata": {
  "kernelspec": {
   "display_name": "Python 3",
   "language": "python",
   "name": "python3"
  },
  "language_info": {
   "codemirror_mode": {
    "name": "ipython",
    "version": 3
   },
   "file_extension": ".py",
   "mimetype": "text/x-python",
   "name": "python",
   "nbconvert_exporter": "python",
   "pygments_lexer": "ipython3",
   "version": "3.7.4"
  }
 },
 "nbformat": 4,
 "nbformat_minor": 2
}
