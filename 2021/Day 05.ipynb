{
 "cells": [
  {
   "cell_type": "code",
   "execution_count": 109,
   "metadata": {},
   "outputs": [],
   "source": [
    "import collections"
   ]
  },
  {
   "cell_type": "code",
   "execution_count": 158,
   "metadata": {},
   "outputs": [],
   "source": [
    "class Line():\n",
    "    def __init__(self, data):\n",
    "        self.start = [int(x) for x in data[0].split(\",\")]\n",
    "        self.end = [int(x) for x in data[1].split(\",\")]\n",
    "        self.points = self._points()\n",
    "        \n",
    "    def is_straight(self):\n",
    "        return self.start[0] == self.end[0] or self.start[1] == self.end[1]\n",
    "    \n",
    "    def _points(self):\n",
    "        pts = []\n",
    "        if self.start[0] == self.end[0]:\n",
    "            if self.start[1] > self.end[1]:\n",
    "                temp = self.start\n",
    "                self.start = self.end\n",
    "                self.end = temp\n",
    "            for i in range(self.start[1], self.end[1]+1):\n",
    "                pts.append((self.start[0], i))\n",
    "        elif self.start[1] == self.end[1]:\n",
    "            if self.start[0] > self.end[0]:\n",
    "                temp = self.start\n",
    "                self.start = self.end\n",
    "                self.end = temp\n",
    "            for i in range(self.start[0], self.end[0] + 1):\n",
    "                pts.append((i, self.start[1]))\n",
    "        else:\n",
    "            pts.append(tuple(self.start))\n",
    "            current_pt = [self.start[0], self.start[1]]\n",
    "            while current_pt[0] != self.end[0] and current_pt[1] != self.end[1]:\n",
    "                if (current_pt[0] < self.end[0]):\n",
    "                    current_pt[0] += 1\n",
    "                else:\n",
    "                    current_pt[0] += -1\n",
    "                if (current_pt[1] < self.end[1]):\n",
    "                    current_pt[1] += 1\n",
    "                else:\n",
    "                    current_pt[1] += -1\n",
    "                pts.append((current_pt[0], current_pt[1]))\n",
    "        return pts"
   ]
  },
  {
   "cell_type": "code",
   "execution_count": null,
   "metadata": {},
   "outputs": [],
   "source": []
  },
  {
   "cell_type": "code",
   "execution_count": 173,
   "metadata": {},
   "outputs": [
    {
     "data": {
      "text/plain": [
       "500"
      ]
     },
     "execution_count": 173,
     "metadata": {},
     "output_type": "execute_result"
    }
   ],
   "source": [
    "data = []\n",
    "with open(\"input_05.txt\", \"r\") as file:\n",
    "    lines = file.readlines()\n",
    "    data = [x.replace('\\n', '') for x in lines]\n",
    "    data = [row.split(' -> ') for row in data]   \n",
    "len(data)"
   ]
  },
  {
   "cell_type": "code",
   "execution_count": 174,
   "metadata": {},
   "outputs": [],
   "source": [
    "vents = [Line(row) for row in data] "
   ]
  },
  {
   "cell_type": "code",
   "execution_count": 175,
   "metadata": {},
   "outputs": [],
   "source": [
    "points = []\n",
    "for vent in vents:\n",
    "    for point in vent.points:\n",
    "        points.append(point)"
   ]
  },
  {
   "cell_type": "code",
   "execution_count": 176,
   "metadata": {},
   "outputs": [],
   "source": [
    "ctr = collections.Counter(points).items()\n",
    "danger_pts = [item for item, count in ctr if count > 1]"
   ]
  },
  {
   "cell_type": "code",
   "execution_count": 177,
   "metadata": {},
   "outputs": [
    {
     "data": {
      "text/plain": [
       "21305"
      ]
     },
     "execution_count": 177,
     "metadata": {},
     "output_type": "execute_result"
    }
   ],
   "source": [
    "len(danger_pts)"
   ]
  },
  {
   "cell_type": "code",
   "execution_count": null,
   "metadata": {},
   "outputs": [],
   "source": []
  }
 ],
 "metadata": {
  "kernelspec": {
   "display_name": "Python 3",
   "language": "python",
   "name": "python3"
  },
  "language_info": {
   "codemirror_mode": {
    "name": "ipython",
    "version": 3
   },
   "file_extension": ".py",
   "mimetype": "text/x-python",
   "name": "python",
   "nbconvert_exporter": "python",
   "pygments_lexer": "ipython3",
   "version": "3.7.4"
  }
 },
 "nbformat": 4,
 "nbformat_minor": 2
}
