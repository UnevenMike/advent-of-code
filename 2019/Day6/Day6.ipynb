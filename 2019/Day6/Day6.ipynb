{
 "cells": [
  {
   "cell_type": "code",
   "execution_count": 1,
   "metadata": {},
   "outputs": [],
   "source": [
    "def read_file_to_list(filename):\n",
    "    with open(filename) as f:\n",
    "        content = f.readlines()\n",
    "    content = [c.rstrip() for c in content]\n",
    "    content = [c for c in content]\n",
    "    return content"
   ]
  },
  {
   "cell_type": "code",
   "execution_count": 2,
   "metadata": {},
   "outputs": [],
   "source": [
    "def total_orbits(orbits):\n",
    "    total_orbits = 0\n",
    "    for k in orbits:\n",
    "        total_orbits += orbits[k]\n",
    "    return total_orbits"
   ]
  },
  {
   "cell_type": "code",
   "execution_count": 5,
   "metadata": {},
   "outputs": [],
   "source": [
    "def add_orbit(orbits, center, new):\n",
    "    if center in orbits:\n",
    "        distance = orbits[center] + 1\n",
    "        orbits[new] = distance\n",
    "        return True\n",
    "    return False"
   ]
  },
  {
   "cell_type": "code",
   "execution_count": 6,
   "metadata": {},
   "outputs": [
    {
     "data": {
      "text/plain": [
       "162439"
      ]
     },
     "execution_count": 6,
     "metadata": {},
     "output_type": "execute_result"
    }
   ],
   "source": [
    "orbit_map = read_file_to_list('input.txt')\n",
    "orbits = {\"COM\": 0}\n",
    "index = 0\n",
    "while orbit_map != []:\n",
    "    point = orbit_map[index].split(\")\")\n",
    "    center = point[0]\n",
    "    new = point[1]\n",
    "    if add_orbit(orbits, center, new):\n",
    "        orbit_map.pop(index)\n",
    "    if len(orbit_map) > 0:\n",
    "        index = (index + 1) % len(orbit_map)\n",
    "    \n",
    "total_orbits(orbits)"
   ]
  },
  {
   "cell_type": "code",
   "execution_count": 7,
   "metadata": {},
   "outputs": [],
   "source": [
    "def add_orbit_paths(orbits, center, new):\n",
    "    if center in orbits:\n",
    "        path = orbits[center].copy()\n",
    "        path.append(center)\n",
    "        orbits[new] = path\n",
    "        return True\n",
    "    return False"
   ]
  },
  {
   "cell_type": "code",
   "execution_count": 8,
   "metadata": {},
   "outputs": [],
   "source": [
    "orbit_map = read_file_to_list('input.txt')\n",
    "orbits = {\"COM\": []}\n",
    "index = 0\n",
    "while orbit_map != []:\n",
    "    point = orbit_map[index].split(\")\")\n",
    "    center = point[0]\n",
    "    new = point[1]\n",
    "    if add_orbit_paths(orbits, center, new):\n",
    "        orbit_map.pop(index)\n",
    "    if len(orbit_map) > 0:\n",
    "        index = (index + 1) % len(orbit_map)\n"
   ]
  },
  {
   "cell_type": "code",
   "execution_count": 10,
   "metadata": {},
   "outputs": [
    {
     "data": {
      "text/plain": [
       "367"
      ]
     },
     "execution_count": 10,
     "metadata": {},
     "output_type": "execute_result"
    }
   ],
   "source": [
    "A = set(orbits[\"YOU\"])\n",
    "B = set(orbits[\"SAN\"])\n",
    "\n",
    "len(A-B) + len(B-A)"
   ]
  },
  {
   "cell_type": "code",
   "execution_count": null,
   "metadata": {},
   "outputs": [],
   "source": []
  }
 ],
 "metadata": {
  "kernelspec": {
   "display_name": "Python 3",
   "language": "python",
   "name": "python3"
  },
  "language_info": {
   "codemirror_mode": {
    "name": "ipython",
    "version": 3
   },
   "file_extension": ".py",
   "mimetype": "text/x-python",
   "name": "python",
   "nbconvert_exporter": "python",
   "pygments_lexer": "ipython3",
   "version": "3.7.5"
  }
 },
 "nbformat": 4,
 "nbformat_minor": 2
}
