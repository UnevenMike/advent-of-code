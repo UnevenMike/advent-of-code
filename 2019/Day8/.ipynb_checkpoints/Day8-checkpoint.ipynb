{
 "cells": [
  {
   "cell_type": "code",
   "execution_count": 10,
   "metadata": {},
   "outputs": [],
   "source": [
    "def read_text_from_file(filename):\n",
    "    with open(filename) as f:\n",
    "        content = f.readlines()\n",
    "    content = [int(c) for c in content[0]]\n",
    "    return content"
   ]
  },
  {
   "cell_type": "code",
   "execution_count": 17,
   "metadata": {},
   "outputs": [],
   "source": [
    "def count_in_layer(layer, item):\n",
    "    return layer.count(item)"
   ]
  },
  {
   "cell_type": "code",
   "execution_count": 27,
   "metadata": {},
   "outputs": [],
   "source": [
    "def calculate_colors(layers, size):\n",
    "    colors = []\n",
    "    num_layers = len(layers)\n",
    "    for i in range(0, size):\n",
    "        for j in range(0, num_layers):\n",
    "            if layers[j][i] == 2:\n",
    "                pass # check next layer\n",
    "            else:\n",
    "                colors.append(layers[j][i])\n",
    "                break # go to next pixel\n",
    "    return colors"
   ]
  },
  {
   "cell_type": "code",
   "execution_count": 35,
   "metadata": {},
   "outputs": [
    {
     "data": {
      "text/plain": [
       "[[1, 1, 1, 1, 0, 1, 0, 0, 1, 0, 0, 1, 1, 0, 0, 1, 0, 0, 1, 0, 1, 0, 0, 0, 0],\n",
       " [1, 0, 0, 0, 0, 1, 0, 1, 0, 0, 1, 0, 0, 1, 0, 1, 0, 0, 1, 0, 1, 0, 0, 0, 0],\n",
       " [1, 1, 1, 0, 0, 1, 1, 0, 0, 0, 1, 0, 0, 1, 0, 1, 1, 1, 1, 0, 1, 0, 0, 0, 0],\n",
       " [1, 0, 0, 0, 0, 1, 0, 1, 0, 0, 1, 1, 1, 1, 0, 1, 0, 0, 1, 0, 1, 0, 0, 0, 0],\n",
       " [1, 0, 0, 0, 0, 1, 0, 1, 0, 0, 1, 0, 0, 1, 0, 1, 0, 0, 1, 0, 1, 0, 0, 0, 0],\n",
       " [1, 0, 0, 0, 0, 1, 0, 0, 1, 0, 1, 0, 0, 1, 0, 1, 0, 0, 1, 0, 1, 1, 1, 1, 0]]"
      ]
     },
     "execution_count": 35,
     "metadata": {},
     "output_type": "execute_result"
    }
   ],
   "source": [
    "width = 25\n",
    "height = 6\n",
    "size = width * height\n",
    "\n",
    "picture = read_text_from_file('input.txt')\n",
    "\n",
    "# build list of layers\n",
    "index = 0\n",
    "layers = []\n",
    "while index < len(picture):\n",
    "    layers.append(picture[index:index+size])\n",
    "    index = index + size\n",
    "    \n",
    "# Get color of each pixex\n",
    "colors_list = calculate_colors(layers, size)\n",
    "colors_list\n",
    "\n",
    "# Sort pixels into rows\n",
    "index = 0\n",
    "lines = []\n",
    "while index < len(colors_list):\n",
    "    lines.append(colors_list[index:index+width])\n",
    "    index = index + width\n",
    "lines"
   ]
  },
  {
   "cell_type": "code",
   "execution_count": 40,
   "metadata": {},
   "outputs": [
    {
     "data": {
      "text/plain": [
       "1950"
      ]
     },
     "execution_count": 40,
     "metadata": {},
     "output_type": "execute_result"
    }
   ],
   "source": [
    "width = 25\n",
    "height = 6\n",
    "size = width * height\n",
    "\n",
    "picture = read_text_from_file('input.txt')\n",
    "    \n",
    "index = 0\n",
    "layers = []\n",
    "while index < len(picture):\n",
    "    layers.append(picture[index:index+size])\n",
    "    index = index + size\n",
    "\n",
    "min0_index = 0\n",
    "min0 = size\n",
    "for i in range(0, len(layers)):\n",
    "    c = count_in_layer(layers[i], 0)\n",
    "    if c < min0:\n",
    "        min0 = c\n",
    "        min0_index = i\n",
    "\n",
    "num1 = count_in_layer(layers[min0_index], 1)\n",
    "num2 = count_in_layer(layers[min0_index], 2)\n",
    "\n",
    "num1 * num2"
   ]
  },
  {
   "cell_type": "code",
   "execution_count": null,
   "metadata": {},
   "outputs": [],
   "source": []
  }
 ],
 "metadata": {
  "kernelspec": {
   "display_name": "Python 3",
   "language": "python",
   "name": "python3"
  },
  "language_info": {
   "codemirror_mode": {
    "name": "ipython",
    "version": 3
   },
   "file_extension": ".py",
   "mimetype": "text/x-python",
   "name": "python",
   "nbconvert_exporter": "python",
   "pygments_lexer": "ipython3",
   "version": "3.7.5"
  }
 },
 "nbformat": 4,
 "nbformat_minor": 2
}
