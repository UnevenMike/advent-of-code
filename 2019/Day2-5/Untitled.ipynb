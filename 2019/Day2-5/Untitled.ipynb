{
 "cells": [
  {
   "cell_type": "code",
   "execution_count": 105,
   "metadata": {},
   "outputs": [],
   "source": [
    "import operator"
   ]
  },
  {
   "cell_type": "code",
   "execution_count": 118,
   "metadata": {},
   "outputs": [],
   "source": [
    "def read_file_to_list(filename):\n",
    "    with open(filename) as f:\n",
    "        content = f.readlines()\n",
    "    content = content[0].split(\",\")\n",
    "    content = [int(c) for c in content]\n",
    "    return content"
   ]
  },
  {
   "cell_type": "code",
   "execution_count": 128,
   "metadata": {},
   "outputs": [],
   "source": [
    "def get_value(tape, ins_ptr, param):\n",
    "#     print(\"get\", tape, ins_ptr, param)\n",
    "    v = 0\n",
    "    if param: #immediate mode\n",
    "        v = tape[ins_ptr]\n",
    "    else:\n",
    "        v = tape[tape[ins_ptr]]\n",
    "    return int(v)\n",
    "\n",
    "def write_value(tape, ins_ptr, value, param):\n",
    "#     print(\"write\", tape, ins_ptr, param)\n",
    "    if param: #immediate mode\n",
    "        tape[ins_ptr] = value\n",
    "    else:\n",
    "        tape[tape[ins_ptr]] = value\n",
    "#     print(tape)\n",
    "    return tape"
   ]
  },
  {
   "cell_type": "code",
   "execution_count": 145,
   "metadata": {},
   "outputs": [],
   "source": [
    "def compute(tape):\n",
    "    index = 0\n",
    "    value = 0\n",
    "    inc = 0\n",
    "    \n",
    "    instruction = tape[index]\n",
    "    op_code = instruction % 100\n",
    "    param = [None, instruction % 1000 // 100, instruction % 10000 // 1000, instruction % 100000 // 10000 ]\n",
    "    while not op_code == 99:\n",
    "        if op_code == 1:\n",
    "            value = get_value(tape,index+1,param[1]) + get_value(tape, index+2, param[2])\n",
    "            tape = write_value(tape, index+3, value, param[3])\n",
    "            inc = 4\n",
    "            \n",
    "        elif op_code == 2:\n",
    "            value = get_value(tape,index+1,param[1]) * get_value(tape, index+2, param[2])\n",
    "            tape = write_value(tape, index+3, value, param[3])\n",
    "            inc = 4\n",
    "            \n",
    "        elif op_code == 3:\n",
    "            value = input()\n",
    "            tape = write_value(tape, index+1, value, param[1])\n",
    "            inc = 2\n",
    "            \n",
    "        elif op_code == 4:\n",
    "            value = get_value(tape, index+1, param[1])\n",
    "            print(\"output\", value)\n",
    "            inc = 2\n",
    "            \n",
    "        elif op_code == 5:\n",
    "            if get_value(tape, index+1, param[1]) != 0:\n",
    "                index = get_value(tape, index+2, param[2])\n",
    "                inc = 0\n",
    "            else:\n",
    "                inc = 3\n",
    "                \n",
    "        elif op_code == 6:\n",
    "            if get_value(tape, index+1, param[1]) == 0:\n",
    "                index = get_value(tape, index+2, param[2])\n",
    "                inc = 0\n",
    "            else:\n",
    "                inc = 3\n",
    "                \n",
    "        elif op_code == 7:\n",
    "            value = 1 if get_value(tape, index+1, param[1]) < get_value(tape, index+2, param[2]) else 0\n",
    "            tape = write_value(tape, index+3, value, param[3])\n",
    "            inc = 4\n",
    "        \n",
    "        elif op_code == 8:\n",
    "            value = 1 if get_value(tape, index+1, param[1]) == get_value(tape, index+2, param[2]) else 0\n",
    "            tape = write_value(tape, index+3, value, param[3])\n",
    "            inc = 4\n",
    "        \n",
    "\n",
    "        index = index + inc            \n",
    "        instruction = tape[index]\n",
    "        op_code = instruction % 100\n",
    "        param = [None, instruction % 1000 // 100, instruction % 10000 // 1000, instruction % 100000 // 10000 ]\n",
    "    return tape\n",
    "    \n",
    "    "
   ]
  },
  {
   "cell_type": "code",
   "execution_count": 186,
   "metadata": {
    "scrolled": true
   },
   "outputs": [
    {
     "name": "stdout",
     "output_type": "stream",
     "text": [
      "5\n",
      "output 9006327\n"
     ]
    }
   ],
   "source": [
    "input_code = read_file_to_list('input.txt')\n",
    "# input_code = [3,21,1008,21,8,20,1005,20,22,107,8,21,20,1006,20,31,\n",
    "# 1106,0,36,98,0,0,1002,21,125,20,4,20,1105,1,46,104,\n",
    "# 999,1105,1,46,1101,1000,1,20,4,20,1105,1,46,98,99]\n",
    "res = compute(input_code)\n"
   ]
  },
  {
   "cell_type": "code",
   "execution_count": 52,
   "metadata": {},
   "outputs": [],
   "source": [
    "\n",
    "def find_values():\n",
    "    for noun in range(0,100):\n",
    "        for verb in range(0,100):\n",
    "            tape = input_code.copy()\n",
    "            tape[1] = noun\n",
    "            tape[2] = verb\n",
    "            result = compute(tape)\n",
    "            if(result[0] == 19690720):\n",
    "                return (noun, verb, tape[0])\n",
    "            \n",
    "    return (-1, -1, tape[0])\n",
    "            "
   ]
  },
  {
   "cell_type": "code",
   "execution_count": 53,
   "metadata": {
    "scrolled": false
   },
   "outputs": [
    {
     "data": {
      "text/plain": [
       "(33, 76, 19690720)"
      ]
     },
     "execution_count": 53,
     "metadata": {},
     "output_type": "execute_result"
    }
   ],
   "source": [
    "find_values()"
   ]
  },
  {
   "cell_type": "code",
   "execution_count": 54,
   "metadata": {},
   "outputs": [
    {
     "ename": "NameError",
     "evalue": "name 'operator' is not defined",
     "output_type": "error",
     "traceback": [
      "\u001b[1;31m---------------------------------------------------------------------------\u001b[0m",
      "\u001b[1;31mNameError\u001b[0m                                 Traceback (most recent call last)",
      "\u001b[1;32m<ipython-input-54-9f9dd5309b7d>\u001b[0m in \u001b[0;36m<module>\u001b[1;34m\u001b[0m\n\u001b[0;32m      1\u001b[0m \u001b[0mmy_list\u001b[0m \u001b[1;33m=\u001b[0m \u001b[1;33m[\u001b[0m \u001b[1;33m(\u001b[0m\u001b[1;34m'Eva'\u001b[0m\u001b[1;33m,\u001b[0m \u001b[1;36m20\u001b[0m\u001b[1;33m,\u001b[0m \u001b[1;36m0.7\u001b[0m\u001b[1;33m)\u001b[0m\u001b[1;33m,\u001b[0m \u001b[1;33m(\u001b[0m\u001b[1;34m'Eva'\u001b[0m\u001b[1;33m,\u001b[0m \u001b[1;36m8\u001b[0m\u001b[1;33m,\u001b[0m \u001b[1;36m0.1\u001b[0m\u001b[1;33m)\u001b[0m\u001b[1;33m,\u001b[0m \u001b[1;33m(\u001b[0m\u001b[1;34m'Bob'\u001b[0m\u001b[1;33m,\u001b[0m \u001b[1;36m12\u001b[0m\u001b[1;33m,\u001b[0m \u001b[1;36m0.9\u001b[0m\u001b[1;33m)\u001b[0m\u001b[1;33m,\u001b[0m \u001b[1;33m(\u001b[0m\u001b[1;34m'Bob'\u001b[0m\u001b[1;33m,\u001b[0m \u001b[1;36m24\u001b[0m\u001b[1;33m,\u001b[0m \u001b[1;36m0.3\u001b[0m\u001b[1;33m)\u001b[0m \u001b[1;33m]\u001b[0m\u001b[1;33m\u001b[0m\u001b[1;33m\u001b[0m\u001b[0m\n\u001b[1;32m----> 2\u001b[1;33m \u001b[0mmy_list\u001b[0m\u001b[1;33m.\u001b[0m\u001b[0msort\u001b[0m\u001b[1;33m(\u001b[0m\u001b[0mkey\u001b[0m \u001b[1;33m=\u001b[0m \u001b[0moperator\u001b[0m\u001b[1;33m.\u001b[0m\u001b[0mitemgetter\u001b[0m\u001b[1;33m(\u001b[0m\u001b[1;36m0\u001b[0m\u001b[1;33m,\u001b[0m \u001b[1;36m2\u001b[0m\u001b[1;33m)\u001b[0m\u001b[1;33m)\u001b[0m\u001b[1;33m\u001b[0m\u001b[1;33m\u001b[0m\u001b[0m\n\u001b[0m\u001b[0;32m      3\u001b[0m \u001b[0mprint\u001b[0m\u001b[1;33m(\u001b[0m\u001b[0mmy_list\u001b[0m\u001b[1;33m)\u001b[0m\u001b[1;33m\u001b[0m\u001b[1;33m\u001b[0m\u001b[0m\n",
      "\u001b[1;31mNameError\u001b[0m: name 'operator' is not defined"
     ]
    }
   ],
   "source": [
    "my_list = [ ('Eva', 20, 0.7), ('Eva', 8, 0.1), ('Bob', 12, 0.9), ('Bob', 24, 0.3) ]\n",
    "my_list.sort(key = operator.itemgetter(0, 2))\n",
    "print(my_list)"
   ]
  },
  {
   "cell_type": "code",
   "execution_count": null,
   "metadata": {},
   "outputs": [],
   "source": []
  }
 ],
 "metadata": {
  "kernelspec": {
   "display_name": "Python 3",
   "language": "python",
   "name": "python3"
  },
  "language_info": {
   "codemirror_mode": {
    "name": "ipython",
    "version": 3
   },
   "file_extension": ".py",
   "mimetype": "text/x-python",
   "name": "python",
   "nbconvert_exporter": "python",
   "pygments_lexer": "ipython3",
   "version": "3.7.5"
  }
 },
 "nbformat": 4,
 "nbformat_minor": 2
}
