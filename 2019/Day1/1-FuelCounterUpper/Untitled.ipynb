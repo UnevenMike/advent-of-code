{
 "cells": [
  {
   "cell_type": "code",
   "execution_count": 17,
   "metadata": {},
   "outputs": [],
   "source": [
    "def calculate_fuel(mass):\n",
    "    return (mass // 3) - 2"
   ]
  },
  {
   "cell_type": "code",
   "execution_count": 18,
   "metadata": {},
   "outputs": [],
   "source": [
    "def read_file_to_list(filename):\n",
    "    with open(filename) as f:\n",
    "        content = f.readlines()\n",
    "    content = [int(x.strip()) for x in content] \n",
    "    return content"
   ]
  },
  {
   "cell_type": "code",
   "execution_count": 19,
   "metadata": {},
   "outputs": [],
   "source": [
    "mass_input = read_file_to_list('input.txt')"
   ]
  },
  {
   "cell_type": "code",
   "execution_count": 24,
   "metadata": {},
   "outputs": [],
   "source": [
    "fuels = list(map(calculate_fuel, mass_input))"
   ]
  },
  {
   "cell_type": "code",
   "execution_count": 25,
   "metadata": {},
   "outputs": [
    {
     "data": {
      "text/plain": [
       "[29362,\n",
       " 34172,\n",
       " 25289,\n",
       " 20672,\n",
       " 28688,\n",
       " 35554,\n",
       " 35144,\n",
       " 17121,\n",
       " 49648,\n",
       " 41232,\n",
       " 30786,\n",
       " 16947,\n",
       " 39039,\n",
       " 31672,\n",
       " 43693,\n",
       " 43293,\n",
       " 48359,\n",
       " 41023,\n",
       " 23071,\n",
       " 28120,\n",
       " 17112,\n",
       " 21866,\n",
       " 46792,\n",
       " 17866,\n",
       " 44226,\n",
       " 27848,\n",
       " 25547,\n",
       " 40310,\n",
       " 45830,\n",
       " 28053,\n",
       " 31477,\n",
       " 18057,\n",
       " 35433,\n",
       " 26932,\n",
       " 32839,\n",
       " 23402,\n",
       " 38034,\n",
       " 39592,\n",
       " 25146,\n",
       " 25481,\n",
       " 48075,\n",
       " 18913,\n",
       " 31219,\n",
       " 45987,\n",
       " 33325,\n",
       " 36812,\n",
       " 35622,\n",
       " 31234,\n",
       " 38026,\n",
       " 17883,\n",
       " 26030,\n",
       " 45878,\n",
       " 16923,\n",
       " 24185,\n",
       " 45012,\n",
       " 48710,\n",
       " 49079,\n",
       " 35198,\n",
       " 35429,\n",
       " 21014,\n",
       " 34952,\n",
       " 31012,\n",
       " 39405,\n",
       " 35701,\n",
       " 30906,\n",
       " 19139,\n",
       " 31532,\n",
       " 29297,\n",
       " 17220,\n",
       " 45881,\n",
       " 18354,\n",
       " 22416,\n",
       " 34605,\n",
       " 27684,\n",
       " 20381,\n",
       " 27341,\n",
       " 18684,\n",
       " 18898,\n",
       " 28493,\n",
       " 38172,\n",
       " 31371,\n",
       " 34954,\n",
       " 17669,\n",
       " 37256,\n",
       " 21203,\n",
       " 26124,\n",
       " 37941,\n",
       " 26684,\n",
       " 41140,\n",
       " 24513,\n",
       " 31227,\n",
       " 40801,\n",
       " 31056,\n",
       " 43819,\n",
       " 45669,\n",
       " 38099,\n",
       " 46232,\n",
       " 18040,\n",
       " 37230,\n",
       " 28097]"
      ]
     },
     "execution_count": 25,
     "metadata": {},
     "output_type": "execute_result"
    }
   ],
   "source": [
    "fuels"
   ]
  },
  {
   "cell_type": "code",
   "execution_count": 27,
   "metadata": {},
   "outputs": [],
   "source": [
    "import functools "
   ]
  },
  {
   "cell_type": "code",
   "execution_count": 28,
   "metadata": {},
   "outputs": [],
   "source": [
    "total = functools.reduce(lambda a,b : a+b , fuels)"
   ]
  },
  {
   "cell_type": "code",
   "execution_count": 29,
   "metadata": {},
   "outputs": [
    {
     "data": {
      "text/plain": [
       "3188480"
      ]
     },
     "execution_count": 29,
     "metadata": {},
     "output_type": "execute_result"
    }
   ],
   "source": [
    "total"
   ]
  },
  {
   "cell_type": "code",
   "execution_count": null,
   "metadata": {},
   "outputs": [],
   "source": []
  }
 ],
 "metadata": {
  "kernelspec": {
   "display_name": "Python 3",
   "language": "python",
   "name": "python3"
  },
  "language_info": {
   "codemirror_mode": {
    "name": "ipython",
    "version": 3
   },
   "file_extension": ".py",
   "mimetype": "text/x-python",
   "name": "python",
   "nbconvert_exporter": "python",
   "pygments_lexer": "ipython3",
   "version": "3.7.5"
  }
 },
 "nbformat": 4,
 "nbformat_minor": 2
}
